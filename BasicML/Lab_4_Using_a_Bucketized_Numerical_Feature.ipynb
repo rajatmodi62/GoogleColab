{
  "nbformat": 4,
  "nbformat_minor": 0,
  "metadata": {
    "colab": {
      "name": "Lab 4: Using a Bucketized Numerical Feature.ipynb",
      "version": "0.3.2",
      "provenance": [],
      "collapsed_sections": [
        "JndnmDMp66FL"
      ]
    },
    "kernelspec": {
      "name": "python2",
      "display_name": "Python 2"
    }
  },
  "cells": [
    {
      "metadata": {
        "colab_type": "text",
        "id": "JndnmDMp66FL"
      },
      "cell_type": "markdown",
      "source": [
        "#### Copyright 2017 Google LLC."
      ]
    },
    {
      "metadata": {
        "cellView": "both",
        "colab_type": "code",
        "id": "hMqWDc_m6rUC",
        "colab": {}
      },
      "cell_type": "code",
      "source": [
        "# Licensed under the Apache License, Version 2.0 (the \"License\");\n",
        "# you may not use this file except in compliance with the License.\n",
        "# You may obtain a copy of the License at\n",
        "#\n",
        "# https://www.apache.org/licenses/LICENSE-2.0\n",
        "#\n",
        "# Unless required by applicable law or agreed to in writing, software\n",
        "# distributed under the License is distributed on an \"AS IS\" BASIS,\n",
        "# WITHOUT WARRANTIES OR CONDITIONS OF ANY KIND, either express or implied.\n",
        "# See the License for the specific language governing permissions and\n",
        "# limitations under the License."
      ],
      "execution_count": 0,
      "outputs": []
    },
    {
      "metadata": {
        "colab_type": "text",
        "id": "4f3CKqFUqL2-",
        "slideshow": {
          "slide_type": "slide"
        }
      },
      "cell_type": "markdown",
      "source": [
        "# Lab 4: Using Bucketized Numerical Features\n",
        "\n",
        "**Learning Objectives:**\n",
        "* Create bucketized numerical features in TF and use them to train a model\n",
        "* Use visualizations to understand the value of using bucketized features"
      ]
    },
    {
      "metadata": {
        "colab_type": "text",
        "id": "UHU_WK5Z2gsw"
      },
      "cell_type": "markdown",
      "source": [
        "### Standard Set-up\n",
        "\n",
        "We start by reading in the data from the [Automobile Data Set](https://archive.ics.uci.edu/ml/datasets/automobile). In this lab we are going to look at using `compression-ratio` to predict `city-mpg`."
      ]
    },
    {
      "metadata": {
        "cellView": "both",
        "colab_type": "code",
        "id": "P5_-Nmc52gsy",
        "slideshow": {
          "slide_type": "-"
        },
        "colab": {
          "test": {
            "output": "ignore",
            "timeout": 600
          }
        }
      },
      "cell_type": "code",
      "source": [
        "import fnmatch\n",
        "import math\n",
        "\n",
        "from IPython import display\n",
        "from matplotlib import cm\n",
        "from matplotlib import gridspec\n",
        "from matplotlib import pyplot as plt\n",
        "import numpy as np\n",
        "import pandas as pd\n",
        "from mpl_toolkits.mplot3d import Axes3D\n",
        "from sklearn import metrics\n",
        "import tensorflow as tf\n",
        "from tensorflow.contrib.learn.python.learn import learn_io, estimator\n",
        "\n",
        "# This line increases the amount of logging when there is an error. You can\n",
        "# remove it if you want less logging.\n",
        "tf.logging.set_verbosity(tf.logging.ERROR)\n",
        "\n",
        "# Set the output display to have two digits for decimal places, for display\n",
        "# readability only and limit it to printing 15 rows.\n",
        "pd.options.display.float_format = '{:.2f}'.format\n",
        "pd.options.display.max_rows = 15\n",
        "\n",
        "# Provide the names for the columns since the CSV file with the data does\n",
        "# not have a header row.\n",
        "cols = ['symboling', 'losses', 'make', 'fuel-type', 'aspiration', 'num-doors',\n",
        "        'body-style', 'drive-wheels', 'engine-location', 'wheel-base',\n",
        "        'length', 'width', 'height', 'weight', 'engine-type', 'num-cylinders',\n",
        "        'engine-size', 'fuel-system', 'bore', 'stroke', 'compression-ratio',\n",
        "        'horsepower', 'peak-rpm', 'city-mpg', 'highway-mpg', 'price']\n",
        "\n",
        "\n",
        "# Load in the data from a CSV file that is comma seperated.\n",
        "car_data = pd.read_csv('https://storage.googleapis.com/ml_universities/cars_dataset/cars_data.csv',\n",
        "                        sep=',', names=cols, header=None, encoding='latin-1')\n",
        "\n",
        "# We'll then randomize the order of the rows.\n",
        "car_data = car_data.reindex(np.random.permutation(car_data.index))"
      ],
      "execution_count": 0,
      "outputs": []
    },
    {
      "metadata": {
        "colab_type": "text",
        "id": "v5XS0Z_-GevD"
      },
      "cell_type": "markdown",
      "source": [
        "### Functions to Help Visualize Our Results\n",
        "\n",
        "As in the past we define functions to generate a scatter plot, calibration plot, and learning curve."
      ]
    },
    {
      "metadata": {
        "colab_type": "code",
        "id": "YIXTkIa6GB0s",
        "colab": {}
      },
      "cell_type": "code",
      "source": [
        "def make_scatter_plot(dataframe, input_feature, target,\n",
        "                      slopes=[], biases=[], model_names=[]):\n",
        "  \"\"\" Creates a scatter plot of input_feature vs target along with the models.\n",
        "  \n",
        "  Args:\n",
        "    dataframe: the dataframe to visualize\n",
        "    input_feature: the input feature to be used for the x-axis\n",
        "    target: the target to be used for the y-axis\n",
        "    slopes: list of model weights (slopes) \n",
        "    bias: list of model biases (same length as slopes)\n",
        "    model_names: list of model_names to use for legend (same length as slopes)\n",
        "  \"\"\"      \n",
        "  # Define some colors to use that go from blue towards red\n",
        "  colors = [cm.coolwarm(x) for x in np.linspace(0, 1, len(slopes))]\n",
        "  \n",
        "  # Generate the scatter plot\n",
        "  x = dataframe[input_feature]\n",
        "  y = dataframe[target]\n",
        "  plt.ylabel(target)\n",
        "  plt.xlabel(input_feature)\n",
        "  plt.scatter(x, y, color='black', label=\"\")\n",
        "\n",
        "  # Add the lines corresponding to the provided models\n",
        "  for i in range (0, len(slopes)):\n",
        "    y_0 = slopes[i] * x.min() + biases[i]\n",
        "    y_1 = slopes[i] * x.max() + biases[i]\n",
        "    plt.plot([x.min(), x.max()], [y_0, y_1],\n",
        "             label=model_names[i], color=colors[i])\n",
        "  if len(model_names) >= 1:\n",
        "    plt.legend(bbox_to_anchor=(1.05, 1), loc=2, borderaxespad=0.)\n",
        "    \n",
        "def make_calibration_plot(predictions, targets):\n",
        "  \"\"\" Creates a calibration plot.\n",
        "  \n",
        "  Args:\n",
        "    predictions: a list of values predicted by the model being visualized\n",
        "    targets: a list of the target values being predicted that must be the\n",
        "             same length as predictions.\n",
        "  \"\"\"  \n",
        "  calibration_data = pd.DataFrame()\n",
        "  calibration_data[\"predictions\"] = pd.Series(predictions)\n",
        "  calibration_data[\"targets\"] = pd.Series(targets)\n",
        "  calibration_data.describe()\n",
        "  min_val = calibration_data[\"predictions\"].min()\n",
        "  max_val = calibration_data[\"predictions\"].max()\n",
        "  plt.ylabel(\"target\")\n",
        "  plt.xlabel(\"prediction\")\n",
        "  plt.scatter(predictions, targets, color='black')\n",
        "  plt.plot([min_val, max_val], [min_val, max_val])\n",
        "  \n",
        "def plot_learning_curve(training_losses):\n",
        "  \"\"\" Plot the learning curve.\n",
        "  \n",
        "  Args:\n",
        "    training_loses: a list of losses to plot.\n",
        "  \"\"\"        \n",
        "  plt.ylabel('Loss')\n",
        "  plt.xlabel('Training Steps')\n",
        "  plt.plot(training_losses)"
      ],
      "execution_count": 0,
      "outputs": []
    },
    {
      "metadata": {
        "colab_type": "text",
        "id": "iUwVi-OWqM0j"
      },
      "cell_type": "markdown",
      "source": [
        "Let's begin by looking at a scatter plot to understand the relationship between `compression-ratio` and `city-mpg`.  "
      ]
    },
    {
      "metadata": {
        "colab_type": "code",
        "id": "l0hHvQvx4hgr",
        "colab": {}
      },
      "cell_type": "code",
      "source": [
        "make_scatter_plot(car_data, \"compression-ratio\", \"city-mpg\")"
      ],
      "execution_count": 0,
      "outputs": []
    },
    {
      "metadata": {
        "colab_type": "text",
        "id": "7v7Vsi0N41zU"
      },
      "cell_type": "markdown",
      "source": [
        "**Would you expect a linear model to make a good prediction?**"
      ]
    },
    {
      "metadata": {
        "colab_type": "text",
        "id": "7PvlEInX2gtL"
      },
      "cell_type": "markdown",
      "source": [
        "### Functions for defining the linear regression model and training it\n",
        "\n",
        "We use the same functions as in the last lab to define the input function, feature columns, linear regression model, and train the model."
      ]
    },
    {
      "metadata": {
        "colab_type": "code",
        "id": "n7WDRxUo2gtN",
        "colab": {}
      },
      "cell_type": "code",
      "source": [
        "CATEGORICAL_COLUMNS = []\n",
        "NUMERICAL_COLUMNS = [\"city-mpg\", \"compression-ratio\"]\n",
        "\n",
        "def input_fn(dataframe):\n",
        "  \"\"\"Constructs a dictionary for the feature columns.\n",
        "\n",
        "  Args:\n",
        "    dataframe: The Pandas DataFrame to use for the input.\n",
        "  Returns:\n",
        "    The feature columns and the associated labels for the provided input.\n",
        "  \"\"\"\n",
        "  # Creates a dictionary mapping from each numeric feature column name (k) to\n",
        "  # the values of that column stored in a constant Tensor.\n",
        "  numerical_cols = {k: tf.constant(dataframe[k].values)\n",
        "                     for k in NUMERICAL_COLUMNS}\n",
        "  # Creates a dictionary mapping from each categorical feature column name (k)\n",
        "  # to the values of that column stored in a tf.SparseTensor.\n",
        "  categorical_cols = {k: tf.SparseTensor(\n",
        "      indices=[[i, 0] for i in range(dataframe[k].size)],\n",
        "      values=dataframe[k].values,\n",
        "      dense_shape=[dataframe[k].size, 1])\n",
        "                      for k in CATEGORICAL_COLUMNS}\n",
        "  # Merges the two dictionaries into one.\n",
        "  feature_cols = dict(numerical_cols.items() + categorical_cols.items())\n",
        "  # Converts the label column into a constant Tensor.\n",
        "  label = tf.constant(dataframe[LABEL].values)\n",
        "  # Returns the feature columns and the label.\n",
        "  return feature_cols, label\n",
        "\n",
        "def train_input_fn():\n",
        "  \"\"\"Sets up the input function using the training data.\n",
        "\n",
        "  Returns:\n",
        "     The feature columns to use for training and the associated labels.\n",
        "  \"\"\"\n",
        "  return input_fn(training_examples)\n",
        "\n",
        "def construct_feature_columns():\n",
        "  \"\"\"Construct TensorFlow feature columns.\n",
        "  \n",
        "  Returns:\n",
        "    A set of feature columns.\n",
        "  \"\"\"\n",
        "  feature_set = set([tf.contrib.layers.real_valued_column(feature) \n",
        "                     for feature in NUMERICAL_FEATURES])\n",
        "  return feature_set\n",
        "\n",
        "def define_linear_regression_model(learning_rate):\n",
        "  \"\"\" Defines a linear regression model of one feature to predict the target.\n",
        "  \n",
        "  Args:\n",
        "    learning_rate: A `float`, the learning rate.\n",
        "    \n",
        "  Returns:\n",
        "    A linear regressor created with the given parameters.\n",
        "  \"\"\"\n",
        "  linear_regressor = tf.contrib.learn.LinearRegressor(\n",
        "    feature_columns=construct_feature_columns(),\n",
        "    optimizer=tf.train.GradientDescentOptimizer(learning_rate=learning_rate),\n",
        "    gradient_clip_norm=5.0\n",
        "  )  \n",
        "  return linear_regressor\n",
        "\n",
        "def compute_loss(predictions, targets):\n",
        "  \"\"\" Computes the loss (RMSE) for linear regression.\n",
        "  \n",
        "  Args:\n",
        "    predictions: a list of values predicted by the model.\n",
        "    targets: a list of the target values being predicted that must be the\n",
        "             same length as predictions.\n",
        "    \n",
        "  Returns:\n",
        "    The RMSE for the provided predictions and targets.\n",
        "  \"\"\"      \n",
        "  return math.sqrt(metrics.mean_squared_error(predictions, targets))\n",
        "\n",
        "def train_model(linear_regressor, steps):\n",
        "  \"\"\"Trains a linear regression model.\n",
        "  \n",
        "  Args:\n",
        "    linear_regressor: The regressor to train\n",
        "    steps: A positive `int`, the total number of training steps.\n",
        "    \n",
        "  Returns:\n",
        "    The trained regressor.\n",
        "  \"\"\"\n",
        "  # In order to see how the model evolves as we train it, we divide the\n",
        "  # steps into periods and show the model after each period.\n",
        "  periods = 10\n",
        "  steps_per_period = steps / periods\n",
        "  \n",
        "  # Train the model, but do so inside a loop so that we can periodically assess\n",
        "  # loss metrics.  We store the loss, slope (feature weight), bias, and a name\n",
        "  # for the model when there is a single feature (which then allows us\n",
        "  # to plot the model in a scatter plot).\n",
        "  print \"Training model...\"\n",
        "  training_losses = []\n",
        "  slopes = []\n",
        "  biases = []\n",
        "  model_names = []\n",
        "\n",
        "  for period in range (0, periods):\n",
        "    # Call fit to train the regressor for steps_per_period steps\n",
        "    linear_regressor.fit(input_fn=train_input_fn, steps=steps_per_period)\n",
        "\n",
        "    # Use the predict method to compute the predictions from the current model\n",
        "    predictions = np.array(list(linear_regressor.predict(\n",
        "        input_fn=train_input_fn)))\n",
        "   \n",
        "    # Compute the loss between the predictions and the correct labels, append\n",
        "    # the loss to the list of losses used to generate the learning curve after\n",
        "    # training is complete and print the current loss.\n",
        "    loss = compute_loss(predictions, training_examples[LABEL])\n",
        "    training_losses.append(loss) \n",
        "    print \"  Loss after period %02d : %0.3f\" % (period, loss)\n",
        "     \n",
        "    # When there is a single input feature, add slope, bias and model_name to\n",
        "    # the lists to be used later to plot the model after each training period.\n",
        "    if len(NUMERICAL_FEATURES) == 1 and len(CATEGORICAL_FEATURES) == 0:\n",
        "      feature_weight = fnmatch.filter(linear_regressor.get_variable_names(),\n",
        "                                      'linear/*/weight')\n",
        "      slopes.append(linear_regressor.get_variable_value(\n",
        "          feature_weight[0])[0])\n",
        "      biases.append(linear_regressor.get_variable_value(\n",
        "          'linear/bias_weight')[0])\n",
        "      model_names.append(\"period_\" + str(period))\n",
        "      \n",
        "  # Now that training is done, print the final loss.\n",
        "  print \"Final Loss (RMSE) on the training data: %0.3f\" % loss \n",
        "  \n",
        "  # Generate a figure with the learning curve on the left and either a scatter\n",
        "  # plot or calibration plot (when more than 2 input features) on the right.\n",
        "  plt.figure(figsize=(10, 5))\n",
        "  plt.subplot(1, 2, 1)\n",
        "  plt.title(\"Learning Curve (RMSE vs time)\")\n",
        "  plot_learning_curve(training_losses)\n",
        "  plt.subplot(1, 2, 2)\n",
        "  plt.tight_layout(pad=1.1, w_pad=3.0, h_pad=3.0)\n",
        " \n",
        "  if len(NUMERICAL_FEATURES) > 1 or len(CATEGORICAL_FEATURES) != 0:\n",
        "    plt.title(\"Calibration Plot\")\n",
        "    make_calibration_plot(predictions, training_examples[LABEL])\n",
        "\n",
        "  else:\n",
        "    plt.title(\"Learned Model by Period on Scatter Plot\")\n",
        "    make_scatter_plot(training_examples, NUMERICAL_FEATURES[0], LABEL,\n",
        "                      slopes, biases, model_names)\n",
        "   \n",
        "  return linear_regressor"
      ],
      "execution_count": 0,
      "outputs": []
    },
    {
      "metadata": {
        "colab_type": "text",
        "id": "K83U9tm72yF7"
      },
      "cell_type": "markdown",
      "source": [
        "### Generate the Training Examples\n",
        "We generate the training examples by calling `prepare_features` on the `car_data` DataFrame."
      ]
    },
    {
      "metadata": {
        "colab_type": "code",
        "id": "JETiyZLS2gtY",
        "colab": {}
      },
      "cell_type": "code",
      "source": [
        "def prepare_features(dataframe):\n",
        "  \"\"\"Prepares the features for provided dataset.\n",
        "\n",
        "  Args:\n",
        "    dataframe: A Pandas DataFrame expected to contain data from the\n",
        "      desired data set.\n",
        "  Returns:\n",
        "    A new DataFrame that contains the features to be used for the model.\n",
        "  \"\"\"\n",
        "  processed_features = dataframe.copy()\n",
        "  return processed_features\n",
        "\n",
        "# Generate the training examples.\n",
        "training_examples = prepare_features(car_data)"
      ],
      "execution_count": 0,
      "outputs": []
    },
    {
      "metadata": {
        "colab_type": "text",
        "id": "91yJ6WebbC57"
      },
      "cell_type": "markdown",
      "source": [
        "## Task 1 - Train a Linear Regression Model (1 point)\n",
        "\n",
        "Tune the hyperparameters to train the best linear regression model you can to predict `city-mpg` from `compression-ratio`. **What do you observe?**"
      ]
    },
    {
      "metadata": {
        "colab_type": "code",
        "id": "TGpLsdMXYOvJ",
        "colab": {}
      },
      "cell_type": "code",
      "source": [
        "\"\"\"\n",
        "Very briefly describe what you observe after training the model in this comment.\n",
        "(There is no need to run this code block but it also won't hurt if you do).\n",
        "\n",
        "\n",
        "\n",
        "\n",
        "\n",
        "\"\"\""
      ],
      "execution_count": 0,
      "outputs": []
    },
    {
      "metadata": {
        "colab_type": "code",
        "id": "_QscSNCVctHb",
        "colab": {}
      },
      "cell_type": "code",
      "source": [
        "NUMERICAL_FEATURES = [\"compression-ratio\"]\n",
        "CATEGORICAL_FEATURES = []\n",
        "LABEL = \"city-mpg\"\n",
        "\n",
        "LEARNING_RATE = .25\n",
        "STEPS = 50\n",
        "\n",
        "linear_regressor = define_linear_regression_model(learning_rate = LEARNING_RATE)\n",
        "linear_regressor = train_model(linear_regressor, steps=STEPS)"
      ],
      "execution_count": 0,
      "outputs": []
    },
    {
      "metadata": {
        "colab_type": "text",
        "id": "NCLzj1XfqcMy"
      },
      "cell_type": "markdown",
      "source": [
        "## Task 2: Use a Bucketized Feature to Create a Better Model (2 points)\n",
        "\n",
        "As you might have observed when looking at the scatter plot, there are two different behaviors happening: One with a low compression ratio, and another with a high compression ratio. So really we want to learn a separate offset (the bias) for these two regions.\n",
        "\n",
        "A [Bucketized Column](https://www.tensorflow.org/api_docs/python/tf/contrib/layers/bucketized_column) for a numerical feature is designed exactly for this situation.  Below we revise `construct_feature_columns` to introduce a bucketized feature column. Observe that since the bucketized features are binary (1 if in the bucket and 0 otherwise), adding the bucketized features allows the model to learn an independent bias for each bucket. If you also want to learn a slope for the model, you also still want to include the `compression_ratio` as a numerical feature.\n",
        "\n",
        "Since the two bucketized features will have a value of 0 or 1, you might also want to do some linear scaling of compression ratio and then use 0.5 as your threshold.  If you were not able to get a linear scaling function to work in Lab 3, come to the office hours to get help writing this function if you decide that you'd like to use it in this lab.\n",
        "\n",
        "**In the below code box we've provided the functions that you are likely to want to change. You'll need to make the needed changes in these functions.  You are welcome to add/remove functions as it fits your needs.**"
      ]
    },
    {
      "metadata": {
        "colab_type": "code",
        "id": "6dHsVfa4m2JH",
        "colab": {}
      },
      "cell_type": "code",
      "source": [
        "# Make any needed changes to prepare_features\n",
        "def prepare_features(dataframe):\n",
        "  \"\"\"Prepares the features for provided dataset.\n",
        "\n",
        "  Args:\n",
        "    dataframe: A Pandas DataFrame expected to contain data from the\n",
        "      desired data set.\n",
        "  Returns:\n",
        "    A new DataFrame that contains the features to be used for the model.\n",
        "  \"\"\"\n",
        "  processed_features = dataframe.copy()\n",
        "  ## Add whatever processing you'd like to use here.   \n",
        "  return processed_features\n",
        "\n",
        "# Generate the training examples with your revised version of prepare_features\n",
        "training_examples = prepare_features(car_data)\n",
        "\n",
        "# Below, we modify construct_feature_columns to use compression_ratio, a\n",
        "# bucketized feature for compression_ratio with two buckets using the provided\n",
        "# threshold. Make sure that the threshold choice is appropriate for whatever\n",
        "# feature processing you choose to use.\n",
        "\n",
        "threshold = 0.5\n",
        "\n",
        "def construct_feature_columns():\n",
        "  \"\"\"Construct the TensorFlow feature columns.\n",
        "\n",
        "  Returns:\n",
        "    A set of feature columns\n",
        "  \"\"\"\n",
        "  compression_ratio = tf.contrib.layers.real_valued_column(\"compression-ratio\")    \n",
        "  bucketized_compression_ratio = tf.contrib.layers.bucketized_column(\n",
        "      compression_ratio, [threshold])\n",
        "  \n",
        "  return set([compression_ratio, bucketized_compression_ratio])"
      ],
      "execution_count": 0,
      "outputs": []
    },
    {
      "metadata": {
        "colab_type": "text",
        "id": "o9cSugXr66b9"
      },
      "cell_type": "markdown",
      "source": [
        "### Now Train a Model\n",
        "\n",
        "Once you've completed the changes above you can train the model."
      ]
    },
    {
      "metadata": {
        "colab_type": "code",
        "id": "nNvxN7v6uhwF",
        "colab": {}
      },
      "cell_type": "code",
      "source": [
        "# Putting an empty categorical feature to generate a calibration plot instead\n",
        "# of a scatter plot.\n",
        "CATEGORICAL_FEATURES = [\"\"]\n",
        "LABEL = \"city-mpg\"\n",
        "\n",
        "LEARNING_RATE = 0.25\n",
        "STEPS = 50\n",
        "\n",
        "linear_regressor = define_linear_regression_model(learning_rate = LEARNING_RATE)\n",
        "linear_regressor = train_model(linear_regressor, steps=STEPS)"
      ],
      "execution_count": 0,
      "outputs": []
    },
    {
      "metadata": {
        "colab_type": "text",
        "id": "SXYmn9NkC_cB"
      },
      "cell_type": "markdown",
      "source": [
        "### Look at the Model Weights ###\n",
        "If you ever want to see the weights stored in a model you can use the `get_variable_names` method.  Below is a code box that prints the weights trained in this model."
      ]
    },
    {
      "metadata": {
        "colab_type": "code",
        "id": "UBjrWIWzlFqL",
        "colab": {}
      },
      "cell_type": "code",
      "source": [
        "w = linear_regressor.get_variable_value(\"linear/compression-ratio/weight\")[0]\n",
        "w_low = linear_regressor.get_variable_value(\"linear/compression-ratio_bucketized/weights\")[0]\n",
        "w_high = linear_regressor.get_variable_value(\"linear/compression-ratio_bucketized/weights\")[1]\n",
        "b = linear_regressor.get_variable_value(\"linear/bias_weight\")\n",
        "print \"weight for compression ratio:\", w\n",
        "print \"weight for compression ratio small bucket:\", w_low\n",
        "print \"weight for compression ratio large bucket:\", w_high\n",
        "print \"weight for model bias:\", b"
      ],
      "execution_count": 0,
      "outputs": []
    },
    {
      "metadata": {
        "colab_type": "text",
        "id": "XGPQYWff5Yp0"
      },
      "cell_type": "markdown",
      "source": [
        "## Task 3: Understand How to Make Predictions With This Model (1 point)##\n",
        "\n",
        "For the model you just trained there are 3 variables:\n",
        "* $x$ the `compression_ratio`\n",
        "* $x_{low}$ the value for the bucket corresponding to low compression ratio that is 1 if the compression ratio is less than the threshold and 0 otherwise.\n",
        "* $x_{high}$ the value for the bucket corresponding to high compression ratio that is 1 if the compression ratio is above the threshold and 0 otherwise.\n",
        "\n",
        "When training the model there are 4 weights learned\n",
        "\n",
        "*  $w$ the weight for `compression-ratio`\n",
        "*  $w_{low}$ the weight for the bucket corresponding to low compression ratio\n",
        "*  $w_{high}$ weight for the bucket corresponding to high compression ratio \n",
        "*  $b$ the bias\n",
        "\n",
        "So the prediction made by the trained model for an example will be: $w * x + w_{low} * x_{low} + w_{high} * x_{high} + b$.\n",
        "\n",
        "For this task, answer the following four questions.\n",
        "* A) What is the prediction of your model when the original compression ratio is 20?  Remember to apply any feature normalization you did to this input value.\n",
        "* B) What is the prediction of your model when the original compression ratio is 5?\n",
        "* C) Derive a formula (simplified as much as you can) for the predicted `city-mpg` when the compression ratio  $x$ is less than the threshold.\n",
        "* D) Derive a formula (simplified as much as you can) for the predicted `city-mpg` when the compression ratio $x$ is greater than the threshold.\n"
      ]
    },
    {
      "metadata": {
        "colab_type": "code",
        "id": "cUABeY0Sabec",
        "colab": {}
      },
      "cell_type": "code",
      "source": [
        "\"\"\"\n",
        "Put your answers in the comment of this code block.  You need not worry about\n",
        "formatting the answers to C and D being neatly.  As long as we can understand\n",
        "your answer that is fine.\n",
        "\n",
        "Also feel free to add another code block or some code outside the comment area\n",
        "of this code block to perform any needed computations to help you out.\n",
        "\n",
        "Answer to A)\n",
        "\n",
        "Answer to B)\n",
        "\n",
        "Answer to C)\n",
        "\n",
        "Answer to D)\n",
        "\n",
        "\"\"\""
      ],
      "execution_count": 0,
      "outputs": []
    },
    {
      "metadata": {
        "colab_type": "text",
        "id": "vLu8vsfbctlX"
      },
      "cell_type": "markdown",
      "source": [
        "## Task 4: Draw a Scatter Plot Showing the Predictions of Your Model (1 point)##\n",
        "\n",
        "Unlike the scatter plots we've seen before, with the bucketized feature you will have a different linear model in the region for each bucket.  Here you are going to draw the model you trained with two buckets for `compression-ratio`. You can just put direct code to do this.  There is no need to modify `make_scatter_plot` but rather just use that code to guide you here where you are going to draw one line segment from x_min to your threshold for the bucketized feature and a second line segment going from your threshold to x_max.  We've got you started."
      ]
    },
    {
      "metadata": {
        "colab_type": "code",
        "id": "qekpM2UvuyEX",
        "colab": {}
      },
      "cell_type": "code",
      "source": [
        "# Generate the scatter plot\n",
        "x = training_examples[\"compression-ratio\"]\n",
        "y = training_examples[\"city-mpg\"]\n",
        "plt.ylabel(\"city-mpg\")\n",
        "plt.xlabel(\"compression-ratio\")\n",
        "plt.scatter(x, y, color='black', label=\"\")\n",
        "\n",
        "\n",
        "# Plot line for x.min() to threshold\n",
        "\n",
        "\n",
        "# Plot line from threshold to x.max()\n"
      ],
      "execution_count": 0,
      "outputs": []
    }
  ]
}