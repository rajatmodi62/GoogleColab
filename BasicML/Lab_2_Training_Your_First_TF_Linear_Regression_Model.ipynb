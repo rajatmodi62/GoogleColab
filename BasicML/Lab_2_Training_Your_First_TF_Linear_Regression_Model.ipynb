{
  "nbformat": 4,
  "nbformat_minor": 0,
  "metadata": {
    "colab": {
      "name": "Lab 2: Training Your First TF Linear Regression Model.ipynb",
      "version": "0.3.2",
      "provenance": [],
      "collapsed_sections": [
        "JndnmDMp66FL"
      ]
    },
    "kernelspec": {
      "name": "python2",
      "display_name": "Python 2"
    }
  },
  "cells": [
    {
      "metadata": {
        "id": "JndnmDMp66FL",
        "colab_type": "text"
      },
      "cell_type": "markdown",
      "source": [
        "#### Copyright 2017 Google LLC."
      ]
    },
    {
      "metadata": {
        "id": "hMqWDc_m6rUC",
        "colab_type": "code",
        "cellView": "both",
        "colab": {}
      },
      "cell_type": "code",
      "source": [
        "# Licensed under the Apache License, Version 2.0 (the \"License\");\n",
        "# you may not use this file except in compliance with the License.\n",
        "# You may obtain a copy of the License at\n",
        "#\n",
        "# https://www.apache.org/licenses/LICENSE-2.0\n",
        "#\n",
        "# Unless required by applicable law or agreed to in writing, software\n",
        "# distributed under the License is distributed on an \"AS IS\" BASIS,\n",
        "# WITHOUT WARRANTIES OR CONDITIONS OF ANY KIND, either express or implied.\n",
        "# See the License for the specific language governing permissions and\n",
        "# limitations under the License."
      ],
      "execution_count": 0,
      "outputs": []
    },
    {
      "metadata": {
        "id": "4f3CKqFUqL2-",
        "colab_type": "text",
        "slideshow": {
          "slide_type": "slide"
        }
      },
      "cell_type": "markdown",
      "source": [
        "# Lab 2: Training Your First TF Linear Regression Model\n",
        "\n",
        "\n",
        "**Learning Objectives:**\n",
        "* Use pyplot to help visualize the data, the learned model, and how the loss is evolving during training\n",
        "* Learn how to set up the features in TensorFlow to train a model.\n",
        "* Use the `LinearRegressor` class in TensorFlow to predict a real-valued featured based on one real-valued input feature\n",
        "* Visualize the resulting model using pyplot\n",
        "* Evaluate the accuracy of a model's predictions using Root Mean Squared Error (RMSE)\n",
        "* Improve the accuracy of a model by tuning the learning rate and number of training steps\n",
        "\n",
        "There are a lot of things introduced in this lab so carefully look through what is provided and ask if you have questions. Much of what is here will be used throughout this course without the need to modify them.  Others, we will slowly modify as needed to handle the complexities that arise in real-world learning problems."
      ]
    },
    {
      "metadata": {
        "id": "if3EBefJeqKq",
        "colab_type": "text"
      },
      "cell_type": "markdown",
      "source": [
        "## Data Set\n",
        "This lab will use a data set from 1985 Ward's Automotive Yearbook that is part of the [UCI Machine Learning Repository](https://archive.ics.uci.edu/ml/datasets) under [Automobile Data Set](https://archive.ics.uci.edu/ml/datasets/automobile).  You can find a description of the data at [https://archive.ics.uci.edu/ml/datasets/automobile](https://archive.ics.uci.edu/ml/datasets/automobile). "
      ]
    },
    {
      "metadata": {
        "id": "h94BDSHgeKev",
        "colab_type": "text"
      },
      "cell_type": "markdown",
      "source": [
        "## Imports and basic set-up\n",
        "As in the last lab, we'll import some libraries and set up some options for Pandas."
      ]
    },
    {
      "metadata": {
        "id": "6CspO1zVopXj",
        "colab_type": "code",
        "slideshow": {
          "slide_type": "-"
        },
        "cellView": "both",
        "colab": {
          "test": {
            "output": "ignore",
            "timeout": 600
          }
        }
      },
      "cell_type": "code",
      "source": [
        "import fnmatch\n",
        "import math\n",
        "\n",
        "from IPython import display\n",
        "from matplotlib import cm\n",
        "from matplotlib import gridspec\n",
        "from matplotlib import pyplot as plt\n",
        "import numpy as np\n",
        "import pandas as pd\n",
        "from mpl_toolkits.mplot3d import Axes3D\n",
        "from sklearn import metrics\n",
        "import tensorflow as tf\n",
        "from tensorflow.contrib.learn.python.learn import learn_io, estimator\n",
        "\n",
        "# This line increases the amount of logging when there is an error.  You can\n",
        "# remove it if you want less logging\n",
        "tf.logging.set_verbosity(tf.logging.ERROR)\n",
        "\n",
        "# Set the output display to have two digits for decimal places, for display\n",
        "# readability only and limit it to printing 15 rows.\n",
        "pd.options.display.float_format = '{:.2f}'.format\n",
        "pd.options.display.max_rows = 15"
      ],
      "execution_count": 0,
      "outputs": []
    },
    {
      "metadata": {
        "id": "F9TLXouIfYQI",
        "colab_type": "text"
      },
      "cell_type": "markdown",
      "source": [
        "## Load and randomizing the data\n",
        "Load the data using the column names from [Automobile Data Set](https://archive.ics.uci.edu/ml/datasets/automobile). When using SGD (stochastic graident descent) for training it is important that **each batch is a random sample of the data** so that the gradient computed is representative.  While there appears to be no order to this data set, it is always good practice to shuffle the data to be in a random order.\n"
      ]
    },
    {
      "metadata": {
        "id": "wXuaBqVufYF4",
        "colab_type": "code",
        "colab": {}
      },
      "cell_type": "code",
      "source": [
        "# Provide the names for the columns since the CSV file with the data does\n",
        "# not have a header row.\n",
        "cols = ['symboling', 'losses', 'make', 'fuel-type', 'aspiration', 'num-doors',\n",
        "        'body-style', 'drive-wheels', 'engine-location', 'wheel-base',\n",
        "        'length', 'width', 'height', 'weight', 'engine-type', 'num-cylinders',\n",
        "        'engine-size', 'fuel-system', 'bore', 'stroke', 'compression-ratio',\n",
        "        'horsepower', 'peak-rpm', 'city-mpg', 'highway-mpg', 'price']\n",
        "\n",
        "\n",
        "# Load in the data from a CSV file that is comma seperated.\n",
        "car_data = pd.read_csv('https://storage.googleapis.com/ml_universities/cars_dataset/cars_data.csv',\n",
        "                        sep=',', names=cols, header=None, encoding='latin-1')\n",
        "\n",
        "# We'll then randomize the data, just to be sure not to get any pathological\n",
        "# ordering effects that might harm the performance of Stochastic Gradient\n",
        "# Descent.\n",
        "car_data = car_data.reindex(np.random.permutation(car_data.index))"
      ],
      "execution_count": 0,
      "outputs": []
    },
    {
      "metadata": {
        "id": "VPUHcV0vuOAW",
        "colab_type": "text"
      },
      "cell_type": "markdown",
      "source": [
        "## Converting missing numerical values to the column mean\n",
        "\n",
        "When training a linear model using numerical features, we cannot have missing entries or NaN (doing so would cause overflow when training). Here we replace NaN (which corresponding to where we had missing entries) by the column mean."
      ]
    },
    {
      "metadata": {
        "id": "WJg129wyugzF",
        "colab_type": "code",
        "colab": {}
      },
      "cell_type": "code",
      "source": [
        "car_data['price'] = pd.to_numeric(car_data['price'], errors='coerce')\n",
        "car_data['horsepower'] = pd.to_numeric(car_data['horsepower'], errors='coerce')\n",
        "car_data['peak-rpm'] = pd.to_numeric(car_data['peak-rpm'], errors='coerce')\n",
        "car_data['city-mpg'] = pd.to_numeric(car_data['city-mpg'], errors='coerce')\n",
        "car_data['highway-mpg'] = pd.to_numeric(car_data['highway-mpg'], errors='coerce')\n",
        "\n",
        "# Replace nan by the mean storing the solution in the same table (`inplace')\n",
        "car_data.fillna(car_data.mean(), inplace=True)\n",
        "car_data.describe()\n"
      ],
      "execution_count": 0,
      "outputs": []
    },
    {
      "metadata": {
        "id": "77Ag_VxFqCaX",
        "colab_type": "text"
      },
      "cell_type": "markdown",
      "source": [
        "## Setting Up the Feature Columns for TensorFlow\n",
        "In order to train a model in TensorFlow there is some set-up that will be needed each time. Each feature that you want to use for training will be put in what is called a feature column.  There are two kinds of basic data that you will use.\n",
        "\n",
        "*  ** Categorical Data** - This is data that is textual, for example `fuel-type` and `num-doors`\n",
        "*   **Numerical Data** - This is data that is a number (integer or float) that you want to treat as a number.  As we will discuss more later, sometimes you might want to treat numerical data (e.g., a zipcode) as if it were categorical.\n",
        "\n",
        "The first thing we will do is create a list of these type of features.  It is okay, as seen below, if one of these lists is empty.  In fact, we won't introduce any categorical data until a few labs later."
      ]
    },
    {
      "metadata": {
        "id": "QnU22GBnr_i3",
        "colab_type": "code",
        "colab": {}
      },
      "cell_type": "code",
      "source": [
        "CATEGORICAL_COLUMNS = []\n",
        "NUMERICAL_COLUMNS = [\"price\", \"horsepower\", \"city-mpg\", \"highway-mpg\",\n",
        "                     \"peak-rpm\", \"compression-ratio\"]"
      ],
      "execution_count": 0,
      "outputs": []
    },
    {
      "metadata": {
        "id": "2fUDFWSBrixq",
        "colab_type": "text"
      },
      "cell_type": "markdown",
      "source": [
        "## Input Function\n",
        "This next code block is some of the most complex code that will be provided. Please try to understand it the best you can.  However, you will not need to modify this so don't worry if you are confused a bit by it.\n",
        "\n",
        "\n",
        "The `input_fn` sets up a dictionary (hash map) needed to include numerical and categorical columns and assign each feature column to a unique integer id."
      ]
    },
    {
      "metadata": {
        "id": "D1QHm1pkrjCS",
        "colab_type": "code",
        "colab": {}
      },
      "cell_type": "code",
      "source": [
        "def input_fn(dataframe):\n",
        "  \"\"\"Constructs a dictionary for the feature columns\n",
        "\n",
        "  Args:\n",
        "    dataframe: The Pandas dataframe to use for the input.\n",
        "  Returns:\n",
        "    The feature columns and the associated labels for the provided input.\n",
        "  \"\"\"\n",
        "  # Creates a dictionary mapping from each numeric feature column name (k) to\n",
        "  # the values of that column stored in a constant Tensor.\n",
        "  numerical_cols = {k: tf.constant(dataframe[k].values)\n",
        "                     for k in NUMERICAL_COLUMNS}\n",
        "  # Creates a dictionary mapping from each categorical feature column name (k)\n",
        "  # to the values of that column stored in a tf.SparseTensor.\n",
        "  categorical_cols = {k: tf.SparseTensor(\n",
        "      indices=[[i, 0] for i in range(dataframe[k].size)],\n",
        "      values=dataframe[k].values,\n",
        "      dense_shape=[dataframe[k].size, 1])\n",
        "                      for k in CATEGORICAL_COLUMNS}\n",
        "  # Merges the two dictionaries into one.\n",
        "  feature_cols = dict(numerical_cols.items() + categorical_cols.items())\n",
        "  # Converts the label column into a constant Tensor.\n",
        "  label = tf.constant(dataframe[LABEL].values)\n",
        "  # Returns the feature columns and the label.\n",
        "  return feature_cols, label"
      ],
      "execution_count": 0,
      "outputs": []
    },
    {
      "metadata": {
        "id": "8l-FtgnwsxM1",
        "colab_type": "text"
      },
      "cell_type": "markdown",
      "source": [
        "## Specialize the Input Function for Training\n",
        "We will want to have different versions of the input function based on which dataset\n",
        "they are using.  For this lab we will just need a single input function\n",
        "(`train_input_fn`) that uses the training data."
      ]
    },
    {
      "metadata": {
        "id": "r4KCc8L7sxVX",
        "colab_type": "code",
        "colab": {}
      },
      "cell_type": "code",
      "source": [
        "def train_input_fn():\n",
        "  \"\"\"Sets up the input function using the training data.\n",
        "\n",
        "  Returns:\n",
        "     The feature columns to use for training and the associated labels.\n",
        "  \"\"\"\n",
        "  return input_fn(training_examples)"
      ],
      "execution_count": 0,
      "outputs": []
    },
    {
      "metadata": {
        "id": "AoFH5cbnuJsG",
        "colab_type": "text"
      },
      "cell_type": "markdown",
      "source": [
        "##Prepare Features\n",
        "As our learning models get more sophisticated we will want to do some computation on the features and even generate new features from the existing features. We will see examples of this in later labs.  For now this method will just make a copy of a portion of the dataframe."
      ]
    },
    {
      "metadata": {
        "id": "4_uZ7UirAw28",
        "colab_type": "code",
        "colab": {}
      },
      "cell_type": "code",
      "source": [
        "def prepare_features(dataframe):\n",
        "  \"\"\"Prepares the features for provided dataset.\n",
        "\n",
        "  Args:\n",
        "    dataframe: A Pandas DataFrame expected to contain data from the\n",
        "      desired data set.\n",
        "  Returns:\n",
        "    A new dataFrame that contains the features to be used for the model.\n",
        "  \"\"\"\n",
        "  processed_features = dataframe.copy()\n",
        "  return processed_features"
      ],
      "execution_count": 0,
      "outputs": []
    },
    {
      "metadata": {
        "id": "zMB1h5gRu2_2",
        "colab_type": "text"
      },
      "cell_type": "markdown",
      "source": [
        "##Generate the Training Examples\n",
        "We simple call `prepare_features` on the `car_data` dataframe."
      ]
    },
    {
      "metadata": {
        "id": "2vyxFjtnBRrx",
        "colab_type": "code",
        "colab": {}
      },
      "cell_type": "code",
      "source": [
        "training_examples = prepare_features(car_data)"
      ],
      "execution_count": 0,
      "outputs": []
    },
    {
      "metadata": {
        "id": "0Trig1N4yFpJ",
        "colab_type": "text"
      },
      "cell_type": "markdown",
      "source": [
        "##Define the Numerical Feature Columns for TensorFlow\n",
        "\n",
        "We use [`tf.contrib.layers.real_valued_column`](https://www.tensorflow.org/api_docs/python/tf/contrib/layers/real_valued_column) to define each column of numerical data.  We will introduce categorical data in a later lab."
      ]
    },
    {
      "metadata": {
        "id": "r_WBlyveQ38f",
        "colab_type": "code",
        "colab": {}
      },
      "cell_type": "code",
      "source": [
        "def construct_feature_columns():\n",
        "  \"\"\"Construct TensorFlow Feature Columns for features\n",
        "  \n",
        "  Returns:\n",
        "    A set of feature columns\n",
        "  \"\"\"\n",
        "  feature_set = set([tf.contrib.layers.real_valued_column(feature) \n",
        "                     for feature in NUMERICAL_FEATURES])\n",
        "  return feature_set"
      ],
      "execution_count": 0,
      "outputs": []
    },
    {
      "metadata": {
        "id": "NRgIG5ITxcVi",
        "colab_type": "text"
      },
      "cell_type": "markdown",
      "source": [
        "\n",
        "## Setting up TensorFlow for Training a Basic Linear Regression Model\n",
        "\n",
        "\n",
        "The learning model we will use is [`tf.contrib.learn.LinearRegressor`](https://www.tensorflow.org/api_docs/python/tf/contrib/learn/LinearRegressor).\n",
        "provided by the TensorFlow [`contrib.learn`](https://www.tensorflow.org/get_started/tflearn) library. This library helps make it easy to many things such as using Pandas columns as features, interacting with data, training models, and computing the predictions from a trained model.\n",
        "\n",
        "We use [`tf.train.GradientDescentOptimizer`](https://www.tensorflow.org/api_docs/python/tf/train/GradientDescentOptimizer) as our algorithm to do the optimization. The GradientDescentOptimizer implements Stochastic Gradient Descent (SGD). The `learning_rate` parameter to the optimizer: it controls the size of the gradient step. We also include a value for `gradient_clip_norm` for safety. This makes sure that gradients are never too huge, which helps avoid pathological cases in gradient descent.\n",
        "\n",
        "You should take a little time reading the documentation for each of these methods."
      ]
    },
    {
      "metadata": {
        "id": "Wvc1-JAhu6Fj",
        "colab_type": "code",
        "slideshow": {
          "slide_type": "-"
        },
        "cellView": "both",
        "colab": {
          "test": {
            "output": "ignore",
            "timeout": 600
          }
        }
      },
      "cell_type": "code",
      "source": [
        "def define_linear_regression_model(learning_rate):\n",
        "  \"\"\" Defines a linear regression model of one feature to predict the target.\n",
        "  \n",
        "  Args:\n",
        "    learning_rate: A `float`, the learning rate\n",
        "    \n",
        "  Returns:\n",
        "    A linear regressor crated with the given parameters\n",
        "  \"\"\"\n",
        "  linear_regressor = tf.contrib.learn.LinearRegressor(\n",
        "    feature_columns=construct_feature_columns(),\n",
        "    optimizer=tf.train.GradientDescentOptimizer(learning_rate=learning_rate),\n",
        "    gradient_clip_norm=5.0\n",
        "  )  \n",
        "  return linear_regressor"
      ],
      "execution_count": 0,
      "outputs": []
    },
    {
      "metadata": {
        "id": "wgu0umejzqNa",
        "colab_type": "text"
      },
      "cell_type": "markdown",
      "source": [
        "##Training a Model\n",
        "\n",
        "Now we can simply call the `fit` method to train our model. You might find this [documentation](https://www.tensorflow.org/extend/estimators) useful to read when you have questions about TensorFlow estimators.\n"
      ]
    },
    {
      "metadata": {
        "id": "wJxcDWfPxZB8",
        "colab_type": "code",
        "colab": {}
      },
      "cell_type": "code",
      "source": [
        "NUMERICAL_FEATURES = [\"horsepower\"]\n",
        "CATEGORICAL_FEATURES = []\n",
        "LABEL = \"price\"\n",
        "\n",
        "# Create regression model using the define_regression_model procedure that we\n",
        "# defined earlier.\n",
        "linear_regressor = define_linear_regression_model(learning_rate = 0.01)\n",
        "\n",
        "# Train the predictor using 1000 steps through the data.\n",
        "_ = linear_regressor.fit(\n",
        "      input_fn=train_input_fn, steps=1000\n",
        ")\n"
      ],
      "execution_count": 0,
      "outputs": []
    },
    {
      "metadata": {
        "id": "1aHq273-7EfE",
        "colab_type": "text"
      },
      "cell_type": "markdown",
      "source": [
        "## Looking at the feature weight (slope) and bias of our trained model\n",
        "\n",
        "TensorFlow provides an easy way to view the weights of the trained model. Although we just have a single feature right now, this code block shows how you could access and print all of the feature weights for a linear model."
      ]
    },
    {
      "metadata": {
        "id": "Ip8m7zFU7ES9",
        "colab_type": "code",
        "colab": {}
      },
      "cell_type": "code",
      "source": [
        "w = linear_regressor.get_variable_value('linear/horsepower/weight')[0]\n",
        "print 'slope', w\n",
        "b = linear_regressor.get_variable_value('linear/bias_weight')[0]\n",
        "print 'bias', b  "
      ],
      "execution_count": 0,
      "outputs": []
    },
    {
      "metadata": {
        "id": "3aBE_yqlCyHR",
        "colab_type": "text"
      },
      "cell_type": "markdown",
      "source": [
        "## Getting Predictions For a Trained Model\n",
        "Once we have trained a model we can call `predict` to get a list of predictions on the data provided via `train_input_fn`.  For now we will do that for the training data and show how we can then compute the loss (RMSE) on the training data."
      ]
    },
    {
      "metadata": {
        "id": "DtYxaC5Zu6aO",
        "colab_type": "code",
        "colab": {}
      },
      "cell_type": "code",
      "source": [
        "predictions = list(linear_regressor.predict(input_fn=train_input_fn))"
      ],
      "execution_count": 0,
      "outputs": []
    },
    {
      "metadata": {
        "id": "U7qT33YbG3Jf",
        "colab_type": "text"
      },
      "cell_type": "markdown",
      "source": [
        "## Showing Our Trained Model in a Scatter Plot\n",
        "When training a linear regression model over a single variable, a really nice thing to be able to do is to show the model (which is just a line) as part of the scatter plot. That really helps you see how well the model fits the data.  Just looking at the loss (RMSE here) doesn't really indicate how good the model is.  Sometimes you want to show several models on the same scatter plot to compare them so we allow `slopes`, `biases`, and `model_names` to all be lists.  They should be of the same size giving the weight (slope), bias, and name (to use in the legend) for the model."
      ]
    },
    {
      "metadata": {
        "id": "uTzgIq_hZL0m",
        "colab_type": "code",
        "colab": {}
      },
      "cell_type": "code",
      "source": [
        "def make_scatter_plot(dataframe, input_feature, target,\n",
        "                      slopes=[], biases=[], model_names=[]):\n",
        "  \"\"\" Creates a scatter plot of input_feature vs target along with the models.\n",
        "  \n",
        "  Args:\n",
        "    dataframe: the dataframe to visualize\n",
        "    input_feature: the input feature to be used for the x-axis\n",
        "    target: the target to be used for the y-axis\n",
        "    slopes: list of model weight (slope) \n",
        "    bias: list of model bias (same size as slopes)\n",
        "    model_names: list of model_names to use for legend (same size as slopes)\n",
        "  \"\"\"      \n",
        "  # Define some colors to use that go from blue towards red\n",
        "  colors = [cm.coolwarm(x) for x in np.linspace(0, 1, len(slopes))]\n",
        "  \n",
        "  # Generate the scatter plot\n",
        "  x = dataframe[input_feature]\n",
        "  y = dataframe[target]\n",
        "  plt.ylabel(target)\n",
        "  plt.xlabel(input_feature)\n",
        "  plt.scatter(x, y, color='black', label=\"\")\n",
        "\n",
        "  # Add the lines corresponding to the provided models\n",
        "  for i in range (0, len(slopes)):\n",
        "    y_0 = slopes[i] * x.min() + biases[i]\n",
        "    y_1 = slopes[i] * x.max() + biases[i]\n",
        "    plt.plot([x.min(), x.max()], [y_0, y_1],\n",
        "             label=model_names[i], color=colors[i])\n",
        "  plt.legend(bbox_to_anchor=(1.05, 1), loc=2, borderaxespad=0.)"
      ],
      "execution_count": 0,
      "outputs": []
    },
    {
      "metadata": {
        "id": "NTCO0kbnuxxH",
        "colab_type": "text"
      },
      "cell_type": "markdown",
      "source": [
        "##Calibration Plot###\n",
        "When we just use a single input feature, we can visualize the data and the learned model pretty well.  In order to help understand higher-dimensional models, a **calibration plot** is very useful. A calibration plot is similar to a scatter plot of the data except this can be used for any linear model since it just plots the target with respec to the predictions. Observe that a model with an RMSE of 0 would have all points on the line target = prediction.  For points that are under the line, we are overpredicting and points over the line we are underpredicting.  This method shows the line target = prediction to help visualize how well the model is doing.\n",
        "\n",
        "Observe that unlike in the scatter plot where the points are fixed and the model (as viewed as a line changes), in the callibration plot the x-coordinate of the points change as the model is trained."
      ]
    },
    {
      "metadata": {
        "id": "yjFZ_FXFvTgJ",
        "colab_type": "code",
        "colab": {}
      },
      "cell_type": "code",
      "source": [
        "def make_calibration_plot(predictions, targets):\n",
        "  \"\"\" Creates a calibration plot.\n",
        "  \n",
        "  Args:\n",
        "    predictions: a list of values predicted by the model being visualized\n",
        "    targets: a list of the target values being predicted that must be the\n",
        "             same size as predictions.\n",
        "  \"\"\"  \n",
        "  calibration_data = pd.DataFrame()\n",
        "  calibration_data[\"predictions\"] = pd.Series(predictions)\n",
        "  calibration_data[\"targets\"] = pd.Series(targets)\n",
        "  calibration_data.describe()\n",
        "  min_val = calibration_data[\"predictions\"].min()\n",
        "  max_val = calibration_data[\"predictions\"].max()\n",
        "  plt.ylabel(\"target\")\n",
        "  plt.xlabel(\"prediction\")\n",
        "  plt.scatter(predictions, targets, color='black')\n",
        "  plt.plot([min_val, max_val], [min_val, max_val])"
      ],
      "execution_count": 0,
      "outputs": []
    },
    {
      "metadata": {
        "id": "T_fieEgPEbmI",
        "colab_type": "text"
      },
      "cell_type": "markdown",
      "source": [
        "Notice that the model we have trained so far is not very good and you can see this when looking at the calibration plot. Your first task will be to improve this model.  "
      ]
    },
    {
      "metadata": {
        "id": "_qbFEC4SJBty",
        "colab_type": "text"
      },
      "cell_type": "markdown",
      "source": [
        "## Task 1 (1 point)\n",
        "\n",
        "The code box below generates a calibration plot for this model.  How does it look compared to the scatter plot?  Explain what you are seeing and why it is this way."
      ]
    },
    {
      "metadata": {
        "id": "nzQ2_AH3Me5d",
        "colab_type": "code",
        "colab": {}
      },
      "cell_type": "code",
      "source": [
        "make_calibration_plot(predictions, car_data[LABEL].values)"
      ],
      "execution_count": 0,
      "outputs": []
    },
    {
      "metadata": {
        "id": "AZWF67uv0HTG",
        "colab_type": "text",
        "slideshow": {
          "slide_type": "slide"
        }
      },
      "cell_type": "markdown",
      "source": [
        "## Computing the Loss\n",
        "For now we are using root mean squared error (RMSE) for our loss since that is the appropriate loss to use for linear regression.  However, to keep the procedure to train the model very generic, we will use a method compute loss that can be tailored to other types of problems. For this lab, our implementation will be to return the RMSE.\n"
      ]
    },
    {
      "metadata": {
        "id": "pZ8hg8DeAjOe",
        "colab_type": "code",
        "colab": {}
      },
      "cell_type": "code",
      "source": [
        "def compute_loss(predictions, targets):\n",
        "  \"\"\" Computes the loss (RMSE) for linear regression.\n",
        "  \n",
        "  Args:\n",
        "    predictions: a list of values predicted by the model being visualized\n",
        "    targets: a list of the target values being predicted that must be the\n",
        "             same size as predictions.\n",
        "    \n",
        "  Returns:\n",
        "    The RMSE for the provided predictions and targets\n",
        "  \"\"\"      \n",
        "  return math.sqrt(metrics.mean_squared_error(predictions, targets))"
      ],
      "execution_count": 0,
      "outputs": []
    },
    {
      "metadata": {
        "id": "gCv6ZQL2GMaN",
        "colab_type": "text"
      },
      "cell_type": "markdown",
      "source": [
        "##Learning Curve\n",
        "\n",
        "Another important tool is a graph often called a **learning curve** that shows the loss being minimized on the y-axis and the training steps (time) on the x-axis.  Looking at the learning curve will help you understand if you have set the `learning_rate` too high or too low, how many `steps` you need to train and other things that we'll explore later.  \n",
        "\n",
        "Next we define a method to plot the learning curve given a list of training losses that will be recorded at regular intervals during training."
      ]
    },
    {
      "metadata": {
        "id": "C6rlWwMpOG0D",
        "colab_type": "code",
        "colab": {}
      },
      "cell_type": "code",
      "source": [
        "def plot_learning_curve(training_losses):\n",
        "  \"\"\" Plot the learning curve\n",
        "  \n",
        "  Args:\n",
        "    training_loses: a list of losses to plot\n",
        "  \"\"\"        \n",
        "  plt.ylabel('Loss')\n",
        "  plt.xlabel('Training Steps')\n",
        "  plt.plot(training_losses)"
      ],
      "execution_count": 0,
      "outputs": []
    },
    {
      "metadata": {
        "id": "HYwpTeMeHT9D",
        "colab_type": "text"
      },
      "cell_type": "markdown",
      "source": [
        "##Training Our Model\n",
        "\n",
        "We now have all the pieces we need to train a model.  In order to generate intermediate losses for the learning curve (and record as we are training), we divide the training into 10 periods.  After each period we compute the loss.  We also store the weight and bias of the model at that time so that we can then visually show how the model evolves in a scatter plot.  You are welcome to modify the number of periods but 10 seems to work out pretty well."
      ]
    },
    {
      "metadata": {
        "id": "Ivp8BYVNMFT-",
        "colab_type": "code",
        "colab": {}
      },
      "cell_type": "code",
      "source": [
        "def train_model(linear_regressor, steps):\n",
        "  \"\"\"Trains a linear regression model.\n",
        "  \n",
        "  Args:\n",
        "    linear_regressor: The regressor to train\n",
        "    steps: A non-zero `int`, the total number of training steps.\n",
        "    \n",
        "  Returns:\n",
        "    The trained regressor\n",
        "  \"\"\"\n",
        "  # In order to see how the model evolves as we train it, we will divide the\n",
        "  # steps into periods and show the model after each period.\n",
        "  periods = 10\n",
        "  steps_per_period = steps / periods\n",
        "  \n",
        "  # Train the model, but do so inside a loop so that we can periodically assess\n",
        "  # loss metrics.  We store the loss, slope (feature weight), bias, and a name\n",
        "  # for the model when there is a single feature (which would then allos us\n",
        "  # to plot the model in a scatter plot).\n",
        "  print \"Training model...\"\n",
        "  training_losses = []\n",
        "  slopes = []\n",
        "  biases = []\n",
        "  model_names = []\n",
        "\n",
        "  for period in range (0, periods):\n",
        "    # Call fit to train the regressor for steps_per_period steps\n",
        "    linear_regressor.fit(input_fn=train_input_fn, steps=steps_per_period)\n",
        "\n",
        "    # Use the predict method to compute the predictions from the current model\n",
        "    predictions = np.array(list(linear_regressor.predict(\n",
        "        input_fn=train_input_fn)))\n",
        "   \n",
        "    # Compute the loss between the predictions and the correct labels, append\n",
        "    # the loss to the list of losses used to generate the learning curve after\n",
        "    # training is complete and print the current loss\n",
        "    loss = compute_loss(predictions, training_examples[LABEL])\n",
        "    training_losses.append(loss) \n",
        "    print \"  Loss after period %02d : %0.3f\" % (period, loss)\n",
        "     \n",
        "    # When there is a single input feature, add slope, bias and model_name to\n",
        "    # the lists to be used later to plot the model after each training period.\n",
        "    if len(NUMERICAL_FEATURES) == 1 and len(CATEGORICAL_FEATURES) == 0:\n",
        "      feature_weight = fnmatch.filter(linear_regressor.get_variable_names(),\n",
        "                                      'linear/*/weight')\n",
        "      slopes.append(linear_regressor.get_variable_value(\n",
        "          feature_weight[0])[0])\n",
        "      biases.append(linear_regressor.get_variable_value(\n",
        "          'linear/bias_weight')[0])\n",
        "      model_names.append(\"period_\" + str(period))\n",
        "      \n",
        "  # Now that training is done print the final loss    \n",
        "  print \"Final Loss (RMSE) on the training data: %0.3f\" % loss \n",
        "  \n",
        "  # Generate a figure with the learning curve on the left and either a scatter\n",
        "  # plot or calibration plot (when more than 2 input features) on the right\n",
        "  plt.figure(figsize=(10, 5))\n",
        "  plt.subplot(1, 2, 1)\n",
        "  plt.title(\"Learning Curve (RMSE vs time)\")\n",
        "  plot_learning_curve(training_losses)\n",
        "  plt.subplot(1, 2, 2)\n",
        "  plt.tight_layout(pad=1.1, w_pad=3.0, h_pad=3.0)\n",
        " \n",
        "  if len(NUMERICAL_FEATURES) > 1 or len(CATEGORICAL_FEATURES) != 0:\n",
        "    plt.title(\"Calibration Plot\")\n",
        "    make_calibration_plot(predictions, training_examples[LABEL])\n",
        "\n",
        "  else:\n",
        "    plt.title(\"Learned Model by Period on Scatter Plot\")\n",
        "    make_scatter_plot(training_examples, NUMERICAL_FEATURES[0], LABEL,\n",
        "                      slopes, biases, model_names)\n",
        "   \n",
        "  return linear_regressor"
      ],
      "execution_count": 0,
      "outputs": []
    },
    {
      "metadata": {
        "id": "cZMZqALDrH2e",
        "colab_type": "text"
      },
      "cell_type": "markdown",
      "source": [
        "### Example learning curve when the learning rate that is too high\n",
        "\n",
        "When the learning rate is too high you will see the loss going up and down indicating you are making adjustments that are too large.  When you see this happening lower the learning rate (initially by a factor of 10 and then make smaller adjustments when you are close).  In this case you are moving back and forth between having the slope too large and too small."
      ]
    },
    {
      "metadata": {
        "id": "MS1WGzxxrHUn",
        "colab_type": "code",
        "colab": {}
      },
      "cell_type": "code",
      "source": [
        "NUMERICAL_FEATURES = [\"horsepower\"]\n",
        "CATEGORICAL_FEATURES = []\n",
        "LABEL = \"price\"\n",
        "\n",
        "LEARNING_RATE = 100\n",
        "STEPS = 50\n",
        "\n",
        "linear_regressor = define_linear_regression_model(learning_rate = LEARNING_RATE)\n",
        "linear_regressor = train_model(linear_regressor, steps=STEPS)"
      ],
      "execution_count": 0,
      "outputs": []
    },
    {
      "metadata": {
        "id": "oHRxZe5xrHCo",
        "colab_type": "text"
      },
      "cell_type": "markdown",
      "source": [
        "### Example learning curve when the learning rate that is too low\n",
        "\n",
        "When the learning rate is too low then the changes are too small.  While this might eventually get you to a good solution it would take way more steps than needed and the training time is roughly proportinal to the number of steps so you want to find a learning rate that gets you to a good solution as fast as you can.  You can see for these settings that the model learned (the line you see in the scatter plot) is improving and would eventually get there but is taking much, much longer than needed to train."
      ]
    },
    {
      "metadata": {
        "id": "VnZwKYkxrziv",
        "colab_type": "code",
        "colab": {}
      },
      "cell_type": "code",
      "source": [
        "NUMERICAL_FEATURES = [\"horsepower\"]\n",
        "CATEGORICAL_FEATURES = []\n",
        "LABEL = \"price\"\n",
        "\n",
        "LEARNING_RATE = 0.001\n",
        "STEPS = 10000\n",
        "\n",
        "linear_regressor = define_linear_regression_model(learning_rate = LEARNING_RATE)\n",
        "linear_regressor = train_model(linear_regressor, steps=STEPS)"
      ],
      "execution_count": 0,
      "outputs": []
    },
    {
      "metadata": {
        "id": "sCkq548MRWlK",
        "colab_type": "text"
      },
      "cell_type": "markdown",
      "source": [
        "##Task 2 - Modify the hyperparmaters to get a better model. (1 Points)\n",
        "For this task, you can use the code block below that puts all the above code in a single cell for convenience. Focus on first finding a good learning rate and then adjusting the number of steps to be what you need to converge.\n",
        "\n",
        "**IN ORDER TO GET CREDIT FOR THIS TASK, YOU MUST EDIT THIS TEXT BLOCK STARTING HERE TO ANSWER THESE QUESTIONS. PLEASE DO THIS THROUGHOUT ALL OF THE LABS WHEN ASKED A QUESTION IN A TEXT BOX**\n",
        "\n",
        "* List at least 3 of the sets of hyperparameters you tried and the RMSE obtained.  Your primary goal is to get the lowest RMSE you can.  Once you've done that a secondary goal is to minmize the number of steps used since the computation cost depends heavily on the number of steps.\n",
        "\n",
        "* Submit this with the results from the hyperparameters that you feel worked best."
      ]
    },
    {
      "metadata": {
        "id": "rxUHBNcmMTzx",
        "colab_type": "code",
        "cellView": "both",
        "colab": {}
      },
      "cell_type": "code",
      "source": [
        "NUMERICAL_FEATURES = [\"horsepower\"]\n",
        "CATEGORICAL_FEATURES = []\n",
        "LABEL = \"price\"\n",
        "\n",
        "## Fill in the rest of your solution here.  Feel free to introduce multiple\n",
        "## code boxes if you want to see the solutions and learning curves from\n",
        "## different options at the same time"
      ],
      "execution_count": 0,
      "outputs": []
    },
    {
      "metadata": {
        "id": "Vg1rzJ4huIL9",
        "colab_type": "text"
      },
      "cell_type": "markdown",
      "source": [
        "**Put your answers the the given questions in this text box.**"
      ]
    },
    {
      "metadata": {
        "id": "cWTvMXoJZOcP",
        "colab_type": "text"
      },
      "cell_type": "markdown",
      "source": [
        "##Task 3: Try a Different Input Feature. (3 Points)\n",
        "\n",
        "The choice of the hyperparameters depedns a lot on the data set and what you are trying to learn.  In this task you will try to predict the price from highway mpg. In this task you will find a good set of hyperparmeters for this problem.\n",
        "\n",
        "* Use highway-mpg instead of horsepower to predict price  You might want to start by just plotting the data.  What do you observe?\n",
        "* What hyperparameters give you the best trained model that you can get.  Try to keep the learning steps as small as you can while still training a good model.\n",
        "* Did you have to change the hyperparameters a lot?  If you did, why do you think that might be the case?\n",
        "* How does the RMSE for your model compare to the optimal RMSE?  Think about what you'll need to do in order to answer this question."
      ]
    },
    {
      "metadata": {
        "id": "0Py3f-_YYYc-",
        "colab_type": "code",
        "colab": {}
      },
      "cell_type": "code",
      "source": [
        "NUMERICAL_FEATURES = [\"highway-mpg\"]\n",
        "CATEGORICAL_FEATURES = []\n",
        "LABEL = \"price\"\n",
        "\n",
        "## Fill in the rest of your solution here."
      ],
      "execution_count": 0,
      "outputs": []
    },
    {
      "metadata": {
        "id": "4rtaN2Hnt-LP",
        "colab_type": "text"
      },
      "cell_type": "markdown",
      "source": [
        "**Put your answers the the given questions in this text box.**"
      ]
    }
  ]
}