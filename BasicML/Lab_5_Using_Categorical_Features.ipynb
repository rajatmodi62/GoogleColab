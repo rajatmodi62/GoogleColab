{
  "nbformat": 4,
  "nbformat_minor": 0,
  "metadata": {
    "colab": {
      "name": "Lab 5: Using Categorical Features.ipynb",
      "version": "0.3.2",
      "provenance": [],
      "collapsed_sections": [
        "JndnmDMp66FL"
      ]
    },
    "kernelspec": {
      "name": "python2",
      "display_name": "Python 2"
    }
  },
  "cells": [
    {
      "metadata": {
        "colab_type": "text",
        "id": "JndnmDMp66FL"
      },
      "cell_type": "markdown",
      "source": [
        "#### Copyright 2017 Google LLC."
      ]
    },
    {
      "metadata": {
        "cellView": "both",
        "colab_type": "code",
        "id": "hMqWDc_m6rUC",
        "colab": {}
      },
      "cell_type": "code",
      "source": [
        "# Licensed under the Apache License, Version 2.0 (the \"License\");\n",
        "# you may not use this file except in compliance with the License.\n",
        "# You may obtain a copy of the License at\n",
        "#\n",
        "# https://www.apache.org/licenses/LICENSE-2.0\n",
        "#\n",
        "# Unless required by applicable law or agreed to in writing, software\n",
        "# distributed under the License is distributed on an \"AS IS\" BASIS,\n",
        "# WITHOUT WARRANTIES OR CONDITIONS OF ANY KIND, either express or implied.\n",
        "# See the License for the specific language governing permissions and\n",
        "# limitations under the License."
      ],
      "execution_count": 0,
      "outputs": []
    },
    {
      "metadata": {
        "colab_type": "text",
        "id": "4f3CKqFUqL2-",
        "slideshow": {
          "slide_type": "slide"
        }
      },
      "cell_type": "markdown",
      "source": [
        "# Lab 5: Using Categorical Features\n",
        "\n",
        "**Learning Objectives:**\n",
        "* Use numerical and categorical features in TF to train a model"
      ]
    },
    {
      "metadata": {
        "colab_type": "text",
        "id": "UHU_WK5Z2gsw"
      },
      "cell_type": "markdown",
      "source": [
        "### Standard Set-up\n",
        "\n",
        "We begin with the standard set-up, use the [Automobile Data Set](https://archive.ics.uci.edu/ml/datasets/automobile) and replace missing numerical values by the column mean.\n",
        "\n",
        "For this lab we are going to use categorical features in our model."
      ]
    },
    {
      "metadata": {
        "cellView": "both",
        "colab_type": "code",
        "id": "P5_-Nmc52gsy",
        "slideshow": {
          "slide_type": "-"
        },
        "colab": {
          "test": {
            "output": "ignore",
            "timeout": 600
          }
        }
      },
      "cell_type": "code",
      "source": [
        "import math\n",
        "\n",
        "from IPython import display\n",
        "from matplotlib import cm\n",
        "from matplotlib import gridspec\n",
        "from matplotlib import pyplot as plt\n",
        "import numpy as np\n",
        "import pandas as pd\n",
        "from mpl_toolkits.mplot3d import Axes3D\n",
        "from sklearn import metrics\n",
        "import tensorflow as tf\n",
        "from tensorflow.contrib.learn.python.learn import learn_io, estimator\n",
        "\n",
        "# This line increases the amount of logging when there is an error. You can\n",
        "# remove it if you want less logging.\n",
        "tf.logging.set_verbosity(tf.logging.ERROR)\n",
        "\n",
        "# Set the output display to have one digit for decimal places, for display\n",
        "# readability only and limit it to printing 15 rows.\n",
        "pd.options.display.float_format = '{:.2f}'.format\n",
        "pd.options.display.max_rows = 15\n",
        "\n",
        "# Provide the names for the columns since the CSV file with the data does\n",
        "# not have a header row.\n",
        "cols = ['symboling', 'losses', 'make', 'fuel-type', 'aspiration', 'num-doors',\n",
        "        'body-style', 'drive-wheels', 'engine-location', 'wheel-base',\n",
        "        'length', 'width', 'height', 'weight', 'engine-type', 'num-cylinders',\n",
        "        'engine-size', 'fuel-system', 'bore', 'stroke', 'compression-ratio',\n",
        "        'horsepower', 'peak-rpm', 'city-mpg', 'highway-mpg', 'price']\n",
        "\n",
        "\n",
        "# Load in the data from a CSV file that is comma seperated.\n",
        "car_data = pd.read_csv('https://storage.googleapis.com/ml_universities/cars_dataset/cars_data.csv',\n",
        "                        sep=',', names=cols, header=None, encoding='latin-1')\n",
        "\n",
        "\n",
        "# Replace missing values by the column mean\n",
        "car_data['price'] = pd.to_numeric(car_data['price'], errors='coerce')\n",
        "car_data['horsepower'] = pd.to_numeric(car_data['horsepower'], errors='coerce')\n",
        "car_data['peak-rpm'] = pd.to_numeric(car_data['peak-rpm'], errors='coerce')\n",
        "car_data['city-mpg'] = pd.to_numeric(car_data['city-mpg'], errors='coerce')\n",
        "car_data['highway-mpg'] = pd.to_numeric(car_data['highway-mpg'], errors='coerce')\n",
        "car_data.fillna(car_data.mean(), inplace=True)\n",
        "\n",
        "# We'll then randomize the order of the rows.\n",
        "car_data = car_data.reindex(np.random.permutation(car_data.index))"
      ],
      "execution_count": 0,
      "outputs": []
    },
    {
      "metadata": {
        "colab_type": "text",
        "id": "v5XS0Z_-GevD"
      },
      "cell_type": "markdown",
      "source": [
        "### Functions to help visualize our results\n",
        "\n",
        "\n",
        "As in the past we define functions to generate a calibration plot and learning curve."
      ]
    },
    {
      "metadata": {
        "colab_type": "code",
        "id": "YIXTkIa6GB0s",
        "colab": {}
      },
      "cell_type": "code",
      "source": [
        "def make_calibration_plot(predictions, targets):\n",
        "  \"\"\" Creates a calibration plot.\n",
        "  \n",
        "  Args:\n",
        "    predictions: a list of values predicted by the model being visualized\n",
        "    targets: a list of the target values being predicted that must be the\n",
        "             same length as predictions.\n",
        "  \"\"\"  \n",
        "  calibration_data = pd.DataFrame()\n",
        "  calibration_data[\"predictions\"] = pd.Series(predictions)\n",
        "  calibration_data[\"targets\"] = pd.Series(targets)\n",
        "  calibration_data.describe()\n",
        "  min_val = calibration_data[\"predictions\"].min()\n",
        "  max_val = calibration_data[\"predictions\"].max()\n",
        "  plt.ylabel(\"target\")\n",
        "  plt.xlabel(\"prediction\")\n",
        "  plt.scatter(predictions, targets, color='black')\n",
        "  plt.plot([min_val, max_val], [min_val, max_val])\n",
        "  \n",
        "def plot_learning_curve(training_losses):\n",
        "  \"\"\" Plot the learning curve\n",
        "  \n",
        "  Args:\n",
        "    training_loses: a list of losses to plot\n",
        "  \"\"\"        \n",
        "  plt.ylabel('Loss')\n",
        "  plt.xlabel('Training Steps')\n",
        "  plt.plot(training_losses)"
      ],
      "execution_count": 0,
      "outputs": []
    },
    {
      "metadata": {
        "colab_type": "text",
        "id": "2BokkZ4g2gs4"
      },
      "cell_type": "markdown",
      "source": [
        "### Setting Up the Feature Columns and Input Function for TensorFlow\n",
        "As in the past labs, we define `input_fn` and `train_input_fn` to use the training data. The change here is that we now introduce some categorical columns."
      ]
    },
    {
      "metadata": {
        "colab_type": "code",
        "id": "OwnMzAkn2gs6",
        "colab": {}
      },
      "cell_type": "code",
      "source": [
        "NUMERICAL_COLUMNS = [\"horsepower\", \"highway-mpg\", \"city-mpg\", \"price\",\n",
        "                      \"peak-rpm\", \"compression-ratio\"]\n",
        "CATEGORICAL_COLUMNS = [\"fuel-system\", \"make\", \"fuel-type\",\n",
        "                        \"body-style\", \"drive-wheels\"]\n",
        "LABEL = \"city-mpg\"\n",
        "\n",
        "def input_fn(dataframe):\n",
        "  \"\"\"Constructs a dictionary for the feature columns.\n",
        "\n",
        "  Args:\n",
        "    dataframe: The Pandas DataFrame to use for the input.\n",
        "  Returns:\n",
        "    The feature columns and the associated labels for the provided input.\n",
        "  \"\"\"\n",
        "  # Creates a dictionary mapping from each numeric feature column name (k) to\n",
        "  # the values of that column stored in a constant Tensor.\n",
        "  numerical_cols = {k: tf.constant(dataframe[k].values)\n",
        "                     for k in NUMERICAL_COLUMNS}\n",
        "  # Creates a dictionary mapping from each categorical feature column name (k)\n",
        "  # to the values of that column stored in a tf.SparseTensor.\n",
        "  categorical_cols = {k: tf.SparseTensor(\n",
        "      indices=[[i, 0] for i in range(dataframe[k].size)],\n",
        "      values=dataframe[k].values,\n",
        "      dense_shape=[dataframe[k].size, 1])\n",
        "                      for k in CATEGORICAL_COLUMNS}\n",
        "  # Merges the two dictionaries into one.\n",
        "  feature_cols = dict(numerical_cols.items() + categorical_cols.items())\n",
        "  # Converts the label column into a constant Tensor.\n",
        "  label = tf.constant(dataframe[LABEL].values)\n",
        "  # Returns the feature columns and the label.\n",
        "  return feature_cols, label\n",
        "\n",
        "def train_input_fn():\n",
        "  \"\"\"Sets up the input function using the training data.\n",
        "\n",
        "  Returns:\n",
        "     The feature columns to use for training and the associated labels.\n",
        "  \"\"\"\n",
        "  return input_fn(training_examples)"
      ],
      "execution_count": 0,
      "outputs": []
    },
    {
      "metadata": {
        "colab_type": "text",
        "id": "7PvlEInX2gtL"
      },
      "cell_type": "markdown",
      "source": [
        "### Functions for defining the linear regression model and training it\n",
        "\n",
        "We use the same method as in the last lab to define the linear regression model and have simplified `train_model` to just show a calibration plot since usually we would use more than a single numerical feature to train a model."
      ]
    },
    {
      "metadata": {
        "colab_type": "code",
        "id": "n7WDRxUo2gtN",
        "colab": {}
      },
      "cell_type": "code",
      "source": [
        "def define_linear_regression_model(learning_rate):\n",
        "  \"\"\" Defines a linear regression model of one feature to predict the target.\n",
        "  \n",
        "  Args:\n",
        "    learning_rate: A `float`, the learning rate.\n",
        "    \n",
        "  Returns:\n",
        "    A linear regressor created with the given parameters.\n",
        "  \"\"\"\n",
        "  linear_regressor = tf.contrib.learn.LinearRegressor(\n",
        "    feature_columns=construct_feature_columns(),\n",
        "    optimizer=tf.train.GradientDescentOptimizer(learning_rate=learning_rate),\n",
        "    gradient_clip_norm=5.0\n",
        "  )  \n",
        "  return linear_regressor\n",
        "\n",
        "def compute_loss(predictions, targets):\n",
        "  \"\"\" Computes the loss (RMSE) for linear regression.\n",
        "  \n",
        "  Args:\n",
        "    predictions: a list of values predicted by the model.\n",
        "    targets: a list of the target values being predicted that must be the\n",
        "             same length as predictions.\n",
        "    \n",
        "  Returns:\n",
        "    The RMSE for the provided predictions and targets.\n",
        "  \"\"\"      \n",
        "  return math.sqrt(metrics.mean_squared_error(predictions, targets))\n",
        "\n",
        "def train_model(linear_regressor, steps):\n",
        "  \"\"\"Trains a linear regression model.\n",
        "  \n",
        "  Args:\n",
        "    linear_regressor: The regressor to train\n",
        "    steps: A non-zero `int`, the total number of training steps.\n",
        "    \n",
        "  Returns:\n",
        "    The trained regressor\n",
        "  \"\"\"\n",
        "  # In order to see how the model evolves as we train it, we will divide the\n",
        "  # steps into periods and show the model after each period.\n",
        "  periods = 10\n",
        "  steps_per_period = steps / periods\n",
        "  \n",
        "  # Train the model, but do so inside a loop so that we can periodically assess\n",
        "  # loss metrics.  We store the loss, slope (feature weight), bias, and a name\n",
        "  # for the model when there is a single feature (which then allows us\n",
        "  # to plot the model in a scatter plot).\n",
        "  print \"Training model...\"\n",
        "  training_losses = []\n",
        "\n",
        "  for period in range (0, periods):\n",
        "    # Call fit to train the regressor for steps_per_period steps.\n",
        "    linear_regressor.fit(input_fn=train_input_fn, steps=steps_per_period)\n",
        "\n",
        "    # Use the predict method to compute the predictions from the current model.\n",
        "    predictions = np.array(list(linear_regressor.predict(\n",
        "        input_fn=train_input_fn)))\n",
        "   \n",
        "    # Compute the loss between the predictions and the correct labels, append\n",
        "    # the loss to the list of losses used to generate the learning curve after\n",
        "    # training is complete and print the current loss\n",
        "    loss = compute_loss(predictions, training_examples[LABEL])\n",
        "    training_losses.append(loss) \n",
        "    print \"  Loss after period %02d : %0.3f\" % (period, loss)\n",
        "      \n",
        "  # Now that training is done, print the final loss.\n",
        "  print \"Final Loss (RMSE) on the training data: %0.3f\" % loss \n",
        "  \n",
        "  # Generate a figure with the learning curve on the left and a calibration\n",
        "  # plot on the right.\n",
        "  plt.figure(figsize=(10, 5))\n",
        "  plt.subplot(1, 2, 1)\n",
        "  plt.title(\"Learning Curve (RMSE vs time)\")\n",
        "  plot_learning_curve(training_losses)\n",
        "  plt.subplot(1, 2, 2)\n",
        "  plt.tight_layout(pad=1.1, w_pad=3.0, h_pad=3.0)\n",
        " \n",
        "  plt.title(\"Calibration Plot\")\n",
        "  make_calibration_plot(predictions, training_examples[LABEL])\n",
        "   \n",
        "  return linear_regressor"
      ],
      "execution_count": 0,
      "outputs": []
    },
    {
      "metadata": {
        "colab_type": "text",
        "id": "K83U9tm72yF7"
      },
      "cell_type": "markdown",
      "source": [
        "### Generate the Training Examples\n",
        "Since the columns corresponding to the categorical features will be 0 or 1, we want to linearly scale the numerical features when generating the training examples."
      ]
    },
    {
      "metadata": {
        "colab_type": "code",
        "id": "KGv84Qpkn3w7",
        "colab": {}
      },
      "cell_type": "code",
      "source": [
        "NUMERICAL_FEATURES = [\"horsepower\", \"highway-mpg\", \"price\",\n",
        "                      \"peak-rpm\", \"compression-ratio\"]\n",
        "CATEGORICAL_FEATURES = [\"fuel-system\", \"make\", \"fuel-type\",\n",
        "                        \"body-style\", \"drive-wheels\"]\n",
        "LABEL = \"city-mpg\"\n",
        "\n",
        "# Linearly rescales to the range [0, 1]\n",
        "def linear_scale(column):\n",
        "  min_val = column.min()\n",
        "  max_val = column.max()\n",
        "  # multiply scale by 1.0 so that it is used as a real value (vs integer)\n",
        "  scale = 1.0 * (max_val - min_val)\n",
        "  return column.apply(lambda x: (x - min_val) / scale)\n",
        "\n",
        "def prepare_features(dataframe):\n",
        "  \"\"\"Prepares the features for provided dataset.\n",
        "\n",
        "  Args:\n",
        "    dataframe: A Pandas DataFrame expected to contain data from the\n",
        "      desired data set.\n",
        "  Returns:\n",
        "    A new dataFrame that contains the features to be used for the model.\n",
        "  \"\"\"\n",
        "  processed_features = dataframe.copy()\n",
        "  for feature in NUMERICAL_FEATURES:\n",
        "    if (feature != LABEL):\n",
        "      processed_features[feature] = linear_scale(processed_features[feature])\n",
        "  return processed_features\n",
        "\n",
        "# Generate the training examples\n",
        "training_examples = prepare_features(car_data)\n",
        "training_examples[1:10]"
      ],
      "execution_count": 0,
      "outputs": []
    },
    {
      "metadata": {
        "colab_type": "text",
        "id": "MD--C-wVGEEg"
      },
      "cell_type": "markdown",
      "source": [
        "### Defining the features\n",
        "\n",
        "We now modify `construct_feature_columns` to use both categorical and numerical columns. To get you started we'll show an example of how to set up each of the kind of features you will be using.  Then you can add in additional features corresponding to the features that you'd like to use when training your model.\n",
        "\n",
        "####Categorical Feauture Columns with known values.\n",
        "\n",
        "When the values are known you can simply use code like below.  If you would view the weights index 0 will be the first key provided, index 1, the next key,.....\n",
        "\n",
        "```\n",
        "   drive_wheels = tf.contrib.layers.sparse_column_with_keys(\n",
        "       column_name=\"drive-wheels\", keys=[\"fwd\", \"rwd\", \"4wd\"])\n",
        "```\n",
        "\n",
        "####Categorical Feature Columns without known values\n",
        "\n",
        "Since you don't always know the possible values you can instead assign an index to each possible value via hashing.\n",
        "\n",
        "```\n",
        "   make = tf.contrib.layers.sparse_column_with_hash_bucket(\"make\", hash_bucket_size=100)\n",
        "```\n",
        "\n",
        "####Numerical Columns directly used as a real number\n",
        "As we have seen in the past lab, we can directly use a real-valued column as a feature\n",
        "```\n",
        "   price = tf.contrib.layers.real_valued_column(\"price\") \n",
        "```\n"
      ]
    },
    {
      "metadata": {
        "colab_type": "code",
        "id": "a-CcXeNk0BwZ",
        "colab": {}
      },
      "cell_type": "code",
      "source": [
        "def construct_feature_columns():\n",
        "  \"\"\"Construct TensorFlow feature columns.\n",
        "  \n",
        "  Returns:\n",
        "    A set of feature columns.\n",
        "  \"\"\"\n",
        "  drive_wheels = tf.contrib.layers.sparse_column_with_keys(\n",
        "      column_name=\"drive-wheels\", keys=[\"fwd\", \"rwd\", \"4wd\"])\n",
        "  make = tf.contrib.layers.sparse_column_with_hash_bucket(\n",
        "      \"make\", hash_bucket_size=100)\n",
        "  price = tf.contrib.layers.real_valued_column(\"price\")\n",
        "  return [drive_wheels, make, price]"
      ],
      "execution_count": 0,
      "outputs": []
    },
    {
      "metadata": {
        "colab_type": "text",
        "id": "bZ2_wtNqowey"
      },
      "cell_type": "markdown",
      "source": [
        "### Train a model"
      ]
    },
    {
      "metadata": {
        "colab_type": "code",
        "id": "WEXYCjiOoqpp",
        "colab": {}
      },
      "cell_type": "code",
      "source": [
        "LEARNING_RATE = 0.25\n",
        "STEPS = 750\n",
        "\n",
        "linear_regressor = define_linear_regression_model(learning_rate = LEARNING_RATE)\n",
        "linear_regressor = train_model(linear_regressor, steps=STEPS)"
      ],
      "execution_count": 0,
      "outputs": []
    },
    {
      "metadata": {
        "colab_type": "text",
        "id": "iGHvmHDnoRo5"
      },
      "cell_type": "markdown",
      "source": [
        "###Look at the weights###"
      ]
    },
    {
      "metadata": {
        "colab_type": "code",
        "id": "HtaaVCgDoSJh",
        "colab": {}
      },
      "cell_type": "code",
      "source": [
        "# Illustrating how to see all the weights in the model\n",
        "print linear_regressor.get_variable_names()\n",
        "\n",
        "for feature in [\"price\"]:\n",
        "  if feature != LABEL:\n",
        "    w = linear_regressor.get_variable_value('linear/' + feature + '/weight')[0]\n",
        "    print \"weight for\", feature, \"is\", w\n",
        "for feature in [\"make\", \"drive-wheels\"]:\n",
        "  w = linear_regressor.get_variable_value('linear/' + feature + '/weights')\n",
        "  print \"more significant weights for\", feature, \"are:\"\n",
        "  for weight, i in zip(w, range(len(w))):\n",
        "    if (weight > 1 or weight < -1):\n",
        "        print \"   index\", i, \"of weight\", weight  \n",
        "print \"bias:\",  linear_regressor.get_variable_value(\"linear/bias_weight\")"
      ],
      "execution_count": 0,
      "outputs": []
    },
    {
      "metadata": {
        "colab_type": "text",
        "id": "YLwiArpRX5R7"
      },
      "cell_type": "markdown",
      "source": [
        "Recall that the keys for `drive-wheels` are `keys=[\"fwd\", \"rwd\", \"4wd\"])`.  If you want to be able to correlate the makes with the keys then you'd wnat to use `sparse_column_with_keys`."
      ]
    },
    {
      "metadata": {
        "colab_type": "text",
        "id": "uEdLsAHdYj1L"
      },
      "cell_type": "markdown",
      "source": [
        "## Task 1 (5 points)\n",
        "\n",
        "Train the best model you can to predict `city-mpg` using any features with whatever feature processing you'd like to include. Make use of all that you've done in the previous labs. The codebox below gives you an example.  Right now it just trains the same model as above.  You should modify `construct_feature_columns` to include the features you'd like to use, and of course modify the learning rate and number of steps to train the model. You can duplicate this code box in order to show the results for more than one model. Please submit the lab with the model you trained that had the lowest loss and also one or two others that you feel are interesting."
      ]
    },
    {
      "metadata": {
        "colab_type": "code",
        "id": "ui8_JOm4VMIh",
        "colab": {}
      },
      "cell_type": "code",
      "source": [
        "# Redefining NUMERICAL_FEATURES and CATEGORICAL FEATURES just for the\n",
        "# convenience of having them here.\n",
        "\n",
        "NUMERICAL_FEATURES = [\"horsepower\", \"highway-mpg\", \"price\",\n",
        "                      \"peak-rpm\", \"compression-ratio\"]\n",
        "CATEGORICAL_FEATURES = [\"fuel-system\", \"make\", \"fuel-type\",\n",
        "                        \"body-style\", \"drive-wheels\"]\n",
        "\n",
        "def construct_feature_columns():\n",
        "  \"\"\"Construct TensorFlow Feature Columns for features\n",
        "  \n",
        "  Returns:\n",
        "    A set of feature columns\n",
        "  \"\"\"\n",
        "  drive_wheels = tf.contrib.layers.sparse_column_with_keys(\n",
        "      column_name=\"drive-wheels\", keys=[\"fwd\", \"rwd\", \"4wd\"])\n",
        "  make = tf.contrib.layers.sparse_column_with_hash_bucket(\n",
        "      \"make\", hash_bucket_size=100)\n",
        "  price = tf.contrib.layers.real_valued_column(\"price\")\n",
        "  return [drive_wheels, make, price]\n",
        "\n",
        "LEARNING_RATE = 0.25\n",
        "STEPS = 750\n",
        "linear_regressor = define_linear_regression_model(learning_rate = LEARNING_RATE)\n",
        "linear_regressor = train_model(linear_regressor, steps=STEPS)"
      ],
      "execution_count": 0,
      "outputs": []
    }
  ]
}