{
  "nbformat": 4,
  "nbformat_minor": 0,
  "metadata": {
    "colab": {
      "name": "Lab 9: Bucketized Features Using Quantiles and Feature Crosses.ipynb",
      "version": "0.3.2",
      "provenance": [],
      "collapsed_sections": [
        "JndnmDMp66FL"
      ]
    },
    "kernelspec": {
      "name": "python2",
      "display_name": "Python 2"
    }
  },
  "cells": [
    {
      "metadata": {
        "colab_type": "text",
        "id": "JndnmDMp66FL"
      },
      "cell_type": "markdown",
      "source": [
        "#### Copyright 2017 Google LLC."
      ]
    },
    {
      "metadata": {
        "cellView": "both",
        "colab_type": "code",
        "id": "hMqWDc_m6rUC",
        "colab": {}
      },
      "cell_type": "code",
      "source": [
        "# Licensed under the Apache License, Version 2.0 (the \"License\");\n",
        "# you may not use this file except in compliance with the License.\n",
        "# You may obtain a copy of the License at\n",
        "#\n",
        "# https://www.apache.org/licenses/LICENSE-2.0\n",
        "#\n",
        "# Unless required by applicable law or agreed to in writing, software\n",
        "# distributed under the License is distributed on an \"AS IS\" BASIS,\n",
        "# WITHOUT WARRANTIES OR CONDITIONS OF ANY KIND, either express or implied.\n",
        "# See the License for the specific language governing permissions and\n",
        "# limitations under the License."
      ],
      "execution_count": 0,
      "outputs": []
    },
    {
      "metadata": {
        "colab_type": "text",
        "id": "4f3CKqFUqL2-",
        "slideshow": {
          "slide_type": "slide"
        }
      },
      "cell_type": "markdown",
      "source": [
        "# Lab 9: Bucketized Features Using Quantiles and Feature Crosses\n",
        "**Learning Objectives:**\n",
        "  * Learn to use quantiles to create bucketized features.\n",
        "  * Learn how to introduce feature crosses.\n",
        "  * Starting from just having the data loaded, train a linear classifier to predict if an individual's income is at least 50k using numerical features, categorical features, bucketized features, and feature crosses.\n"
      ]
    },
    {
      "metadata": {
        "colab_type": "text",
        "id": "UHU_WK5Z2gsw"
      },
      "cell_type": "markdown",
      "source": [
        "### Standard Set-up\n",
        "\n",
        "We begin with the standard set-up as seen in the last lab again using the census data set."
      ]
    },
    {
      "metadata": {
        "cellView": "both",
        "colab_type": "code",
        "id": "P5_-Nmc52gsy",
        "slideshow": {
          "slide_type": "-"
        },
        "colab": {
          "test": {
            "output": "ignore",
            "timeout": 600
          }
        }
      },
      "cell_type": "code",
      "source": [
        "import math\n",
        "\n",
        "from IPython import display\n",
        "from matplotlib import cm\n",
        "from matplotlib import gridspec\n",
        "from matplotlib import pyplot as plt\n",
        "import numpy as np\n",
        "import pandas as pd\n",
        "from mpl_toolkits.mplot3d import Axes3D\n",
        "from sklearn import metrics\n",
        "import tempfile\n",
        "import tensorflow as tf\n",
        "from tensorflow.contrib.learn.python.learn import learn_io, estimator\n",
        "import urllib\n",
        "\n",
        "# This line increases the amount of logging when there is an error.  You can\n",
        "# remove it if you want less logging.\n",
        "tf.logging.set_verbosity(tf.logging.ERROR)\n",
        "\n",
        "# Set the output display to have two digits for decimal places, for display\n",
        "# readability only and limit it to printing 15 rows.\n",
        "pd.options.display.float_format = '{:.2f}'.format\n",
        "pd.options.display.max_rows = 15\n",
        "\n",
        "\n",
        "train_file = tempfile.NamedTemporaryFile()\n",
        "urllib.urlretrieve(\"http://mlr.cs.umass.edu/ml/machine-learning-databases/adult/adult.data\", train_file.name)\n",
        "\n",
        "COLUMNS = [\"age\", \"workclass\", \"sample_weight\", \"education\", \"education_num\",\n",
        "           \"marital_status\", \"occupation\", \"relationship\", \"race\", \"gender\",\n",
        "           \"capital_gain\", \"capital_loss\", \"hours_per_week\", \"native_country\",\n",
        "           \"income_bracket\"]\n",
        "census_df = pd.read_csv(train_file, names=COLUMNS, skipinitialspace=True)"
      ],
      "execution_count": 0,
      "outputs": []
    },
    {
      "metadata": {
        "colab_type": "text",
        "id": "HlNYfroWho-r"
      },
      "cell_type": "markdown",
      "source": [
        "### Making Numerical Features Categorical through Bucketization\n",
        "\n",
        "As we saw in [Lab4 (Using Bucketized Numerical Features)](https://colab.sandbox.google.com/notebook#fileId=/v2/external/notebooks/intro_to_ml_semester_course/Lab_4__Using_a_Bucketized_Numerical_Feature.ipynb), often the relationship between a numerical feature and the label is not linear. As an example relevant to this data set, a person's income may grow with age in the early stage of one's career, then the growth may slow at some point, and finally the income decreases after retirement. If we want to learn the fine-grained correlation between income and each age group separately, we can leverage bucketization (also known as binning).  **Bucketization** is a process of partitioning the entire range of a numerical feature into bins/buckets, and then converting the original numerical feature into a set of categorical features with one feature correpsonding to each bucket (with a value of 1 when the numerical feature falls in the range of the bucket, and 0 otherwise). However, in general, it is not feasible to hand pick boundaries as we did for compression ratio in Lab 4.\n",
        "\n",
        "\n",
        "### Computing Quantile Boundaries ###\n",
        "\n",
        "A good general approach is to bucketize features into groups so that there are roughly the same number of examples falling into each group.  Such groups are called ***quantiles*** and can be computed very simply as illustrated below in `get_quantile_based_boundaries`."
      ]
    },
    {
      "metadata": {
        "colab_type": "code",
        "id": "DqOkFWylhpTi",
        "colab": {}
      },
      "cell_type": "code",
      "source": [
        "def get_quantile_based_boundaries(feature_values, num_buckets):\n",
        "  boundaries = np.arange(1.0, num_buckets) / num_buckets\n",
        "  quantiles = feature_values.quantile(boundaries)\n",
        "  return [q for q in quantiles]"
      ],
      "execution_count": 0,
      "outputs": []
    },
    {
      "metadata": {
        "colab_type": "text",
        "id": "vvjT7Gx9q6l-"
      },
      "cell_type": "markdown",
      "source": [
        "Let's try it out on `age` with 5 quantiles. We use plot to visualize the boundaries on a histogram. So the bins defined for `age` on this data are $\\le$25, 26-32, 33-40, 41-49, and $\\ge$50."
      ]
    },
    {
      "metadata": {
        "colab_type": "code",
        "id": "lpzNk28KL3Ld",
        "colab": {}
      },
      "cell_type": "code",
      "source": [
        "histogram = census_df[\"age\"].hist(bins=50)\n",
        "boundaries = get_quantile_based_boundaries(census_df[\"age\"], 5)\n",
        "print \"boundaries are:\", boundaries\n",
        "for x in boundaries:\n",
        "  plt.axvline(x, color='g')"
      ],
      "execution_count": 0,
      "outputs": []
    },
    {
      "metadata": {
        "colab_type": "text",
        "id": "vdYnq5iqErtt"
      },
      "cell_type": "markdown",
      "source": [
        "### Feature Crosses\n",
        "\n",
        "As we discussd in the slides, another very powerful way to capture non-linear behavior in a linear model is through introducing feature crosses. Any combination of categorical features and bucketized features (which are a form of categorical feature) can be combined in a **feature cross**.  When this is done there will be a new categorical featuers introduced for each possible value for all the features in the cross.  Thus if a feature with `n1` values is crossed with a feature with `n2` values then there will be `n1 * n2` features for the cross.\n",
        "\n",
        "Here is a sample of creating a cross between `gender` and `age_buckets`.\n",
        "```\n",
        "   gender_x_age_buckets = tf.contrib.layers.crossed_column(\n",
        "      [gender, age_buckets], hash_bucket_size=1000\n",
        "```\n",
        "\n",
        "If we had defined 5 age buckets as above, then this crossed column would introduce 10 Boolean features: one for males in each of the 5 age buckets listed above, and one for females in each of the 5 age buckets."
      ]
    },
    {
      "metadata": {
        "colab_type": "text",
        "id": "S-0z961EF0Ld"
      },
      "cell_type": "markdown",
      "source": [
        "## Task 1 - Train a Linear Classifier with Bucketized Features and Feature Crosses (5 points)\n",
        "\n",
        "For this lab, you are going to train a model to improve upon what you did in Lab 8 by introducing bucketized features and feature crosses.  You should introduce at least two bucketized features and at two feature crosses.\n",
        "\n",
        "Unlike in past labs, we are not providing any code other than what is provided above to load the data into Pandas, and compute quantile boundaries.  Just to be sure it is clear how to introduce a `bucketized_colum` and a`crossed_column` column below is a starting point for `construct_feature_column`.  Copy any of pieces of code that you'd like to use from Lab 8.\n",
        "\n",
        "**WARNING: As discussed in the slides, because the log loss has a gradient that goes to infinity as your prediction approaches the target value, when training a logistic regression model with a lot of features and thus the possibility to overfit the training data, you can get a gradient that is so large that your model overflows. If you see an error indicating that you divided by zero or a loss of NaN, then most likely this situation has occured. The way to address this problem is to introduce regularization (which you will learn how to do in the next lab). For now, the solution is to reduce the learning rate and/or the number of training steps even if that means that your model is undertrained.**\n"
      ]
    },
    {
      "metadata": {
        "colab_type": "code",
        "id": "AGrEcX19Ertw",
        "colab": {}
      },
      "cell_type": "code",
      "source": [
        "# You will need to modify this to add the features you had in Task 3 in addition\n",
        "# to adding at least two more feature crosses beyond the one illustrated here. \n",
        "\n",
        "def construct_feature_columns():\n",
        "  \"\"\"Construct TensorFlow Feature Columns for features\n",
        "  \n",
        "  Returns:\n",
        "    A set of feature columns\n",
        "  \"\"\"\n",
        "  \n",
        "  # Sample of creating a real-valued column.\n",
        "  age = tf.contrib.layers.real_valued_column(\"age\") \n",
        "  \n",
        "  # Sample of creating a bucketized column using a real-valued column\n",
        "  boundaries = get_quantile_based_boundaries(training_examples[\"age\"], 5)\n",
        "  age_buckets = tf.contrib.layers.bucketized_column(age, boundaries)\n",
        "  \n",
        "  # Sample of creating a categorical column with known values\n",
        "  gender = tf.contrib.layers.sparse_column_with_keys(\n",
        "    column_name=\"gender\", keys=[\"Female\", \"Male\"])\n",
        "\n",
        "  # Sample of a crossed_column which in this case combines a bucketized column\n",
        "  # and a categorical column. In general, you can include any number of each.\n",
        "  # So for example you could cross two categorical columns, or two bucketized\n",
        "  # columns, two categorical columns and also a bucketized column,...\n",
        "  gender_x_age_buckets = tf.contrib.layers.crossed_column(\n",
        "      [gender, age_buckets], hash_bucket_size=1000)\n",
        "\n",
        "  # In this sample code, note that while the real-valued column age was defined\n",
        "  # in order to define the bucketized column age_buckets, the real-valued\n",
        "  # feature age is not being included in feature_columns.  If you would like\n",
        "  # the real-valued feature age to also be used in training the model then you\n",
        "  # would add that to the set of feature columns being returned.\n",
        "  feature_columns=[age_buckets, gender, gender_x_age_buckets]\n",
        " \n",
        "  return feature_columns"
      ],
      "execution_count": 0,
      "outputs": []
    }
  ]
}