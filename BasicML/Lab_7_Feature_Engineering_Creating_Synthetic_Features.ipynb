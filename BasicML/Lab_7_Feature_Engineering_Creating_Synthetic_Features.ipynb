{
  "nbformat": 4,
  "nbformat_minor": 0,
  "metadata": {
    "colab": {
      "name": "Lab 7: Feature Engineering - Creating Synthetic Features.ipynb",
      "version": "0.3.2",
      "provenance": [],
      "collapsed_sections": [
        "JndnmDMp66FL"
      ]
    },
    "kernelspec": {
      "name": "python2",
      "display_name": "Python 2"
    }
  },
  "cells": [
    {
      "metadata": {
        "colab_type": "text",
        "id": "JndnmDMp66FL"
      },
      "cell_type": "markdown",
      "source": [
        "#### Copyright 2017 Google LLC."
      ]
    },
    {
      "metadata": {
        "cellView": "both",
        "colab_type": "code",
        "id": "hMqWDc_m6rUC",
        "colab": {}
      },
      "cell_type": "code",
      "source": [
        "# Licensed under the Apache License, Version 2.0 (the \"License\");\n",
        "# you may not use this file except in compliance with the License.\n",
        "# You may obtain a copy of the License at\n",
        "#\n",
        "# https://www.apache.org/licenses/LICENSE-2.0\n",
        "#\n",
        "# Unless required by applicable law or agreed to in writing, software\n",
        "# distributed under the License is distributed on an \"AS IS\" BASIS,\n",
        "# WITHOUT WARRANTIES OR CONDITIONS OF ANY KIND, either express or implied.\n",
        "# See the License for the specific language governing permissions and\n",
        "# limitations under the License."
      ],
      "execution_count": 0,
      "outputs": []
    },
    {
      "metadata": {
        "colab_type": "text",
        "id": "4f3CKqFUqL2-",
        "slideshow": {
          "slide_type": "slide"
        }
      },
      "cell_type": "markdown",
      "source": [
        "# Lab 7: Feature Engineering - Creating Synthetic Features\n",
        "**Learning Objectives:**\n",
        "  * Gain more experience with the `LinearRegressor` class in TensorFlow by using it to predict median housing price, at the granularity of city blocks\n",
        "  * Use a validation data set and test set to make sure that our model will generalize and is not overfitting the training data.\n",
        "  * Use test data only after tuning hyperparameters as a measure of how the model will generalize to new data\n",
        "  * Create synthetic features from the existing features (e.g., taking a ratio of two other features)\n",
        "  * More practice with feature transformations including identifying and clipping (removing) outliers out of the input data to obtain the best model\n"
      ]
    },
    {
      "metadata": {
        "colab_type": "text",
        "id": "UHU_WK5Z2gsw"
      },
      "cell_type": "markdown",
      "source": [
        "### Standard Set-up\n",
        "\n",
        "We begin with the same set-up as in the last lab."
      ]
    },
    {
      "metadata": {
        "cellView": "both",
        "colab_type": "code",
        "id": "P5_-Nmc52gsy",
        "slideshow": {
          "slide_type": "-"
        },
        "colab": {
          "test": {
            "output": "ignore",
            "timeout": 600
          }
        }
      },
      "cell_type": "code",
      "source": [
        "import math\n",
        "\n",
        "from IPython import display\n",
        "from matplotlib import cm\n",
        "from matplotlib import gridspec\n",
        "from matplotlib import pyplot as plt\n",
        "import numpy as np\n",
        "import pandas as pd\n",
        "from mpl_toolkits.mplot3d import Axes3D\n",
        "from sklearn import metrics\n",
        "import tensorflow as tf\n",
        "from tensorflow.contrib.learn.python.learn import learn_io, estimator\n",
        "\n",
        "# This line increases the amount of logging when there is an error. You can\n",
        "# remove it if you want less logging.\n",
        "tf.logging.set_verbosity(tf.logging.ERROR)\n",
        "\n",
        "# Set the output display to have two digits for decimal places, for display\n",
        "# readability only and limit it to printing 15 rows.\n",
        "pd.options.display.float_format = '{:.2f}'.format\n",
        "pd.options.display.max_rows = 15\n"
      ],
      "execution_count": 0,
      "outputs": []
    },
    {
      "metadata": {
        "colab_type": "text",
        "id": "RG4WjoRq7we3"
      },
      "cell_type": "markdown",
      "source": [
        "Read the data and randomize the order."
      ]
    },
    {
      "metadata": {
        "colab_type": "code",
        "id": "WrtTmerb7wOT",
        "colab": {}
      },
      "cell_type": "code",
      "source": [
        "california_housing_dataframe = pd.read_csv(\"https://storage.googleapis.com/ml_universities/california_housing_train.csv\", sep=\",\")\n",
        "\n",
        "california_housing_dataframe = california_housing_dataframe.reindex(\n",
        "    np.random.permutation(california_housing_dataframe.index))\n",
        "\n",
        "california_housing_dataframe.describe()"
      ],
      "execution_count": 0,
      "outputs": []
    },
    {
      "metadata": {
        "colab_type": "text",
        "id": "K83U9tm72yF7"
      },
      "cell_type": "markdown",
      "source": [
        "##Prepare Features\n",
        "\n",
        "As our learning models get more sophisticated we will want to do some computation on the features and even generate new features from the existing features. You will change this later in the lab. For now this method will just make a copy of the portion of the dataframe we plan to use, and re-scale the median-house value (to make it a bit easier to work with)."
      ]
    },
    {
      "metadata": {
        "colab_type": "code",
        "id": "JETiyZLS2gtY",
        "colab": {}
      },
      "cell_type": "code",
      "source": [
        "def prepare_features(dataframe):\n",
        "  \"\"\"Prepares the features for provided dataset.\n",
        "\n",
        "  Args:\n",
        "    dataframe: A Pandas DataFrame expected to contain data from the\n",
        "      desired data set.\n",
        "  Returns:\n",
        "    A new dataFrame that contains the features to be used for the model.\n",
        "  \"\"\"\n",
        "  processed_features = dataframe.copy()\n",
        "  \n",
        "  # Modifying median_house_value to be in scale of $1000.  So a value of 14.0\n",
        "  # will correspond to $14,000.  This will make it a bit easier to work with.\n",
        "  processed_features[\"median_house_value\"] /= 1000.0\n",
        "  \n",
        "  return processed_features"
      ],
      "execution_count": 0,
      "outputs": []
    },
    {
      "metadata": {
        "colab_type": "text",
        "id": "O4tSQbQmGo7m"
      },
      "cell_type": "markdown",
      "source": [
        "###Divide the provided data for training our model into a training and validation set\n",
        "\n",
        "As in the last lab we use the first 14000 examples (after randomization) for the ***training set*** and the remaining 3000 examples for the ***validation set***."
      ]
    },
    {
      "metadata": {
        "colab_type": "code",
        "id": "pr9J6wVUGoQX",
        "colab": {}
      },
      "cell_type": "code",
      "source": [
        "training_examples = prepare_features(california_housing_dataframe.head(14000))\n",
        "validation_examples = prepare_features(california_housing_dataframe.tail(3000))"
      ],
      "execution_count": 0,
      "outputs": []
    },
    {
      "metadata": {
        "colab_type": "text",
        "id": "27I6NhglBnUB"
      },
      "cell_type": "markdown",
      "source": [
        "### Load the Test Data\n",
        "\n",
        "As in the last lab we load the test data from [here](https://storage.googleapis.com/ml_universities/california_housing_test.csv)."
      ]
    },
    {
      "metadata": {
        "colab_type": "code",
        "id": "XK2--38hBnl3",
        "colab": {}
      },
      "cell_type": "code",
      "source": [
        "california_housing_test_data = pd.read_csv(\n",
        "    \"https://storage.googleapis.com/ml_universities/california_housing_test.csv\",\n",
        "    sep=\",\")\n",
        "\n",
        "test_examples = prepare_features(california_housing_test_data)"
      ],
      "execution_count": 0,
      "outputs": []
    },
    {
      "metadata": {
        "colab_type": "text",
        "id": "G2F3zbi2CjM7"
      },
      "cell_type": "markdown",
      "source": [
        "### Compute Loss\n",
        "\n",
        "Here is a simple method to compute the loss on the given input function and targets."
      ]
    },
    {
      "metadata": {
        "colab_type": "code",
        "id": "sPHDJH0JCiWP",
        "colab": {}
      },
      "cell_type": "code",
      "source": [
        "def compute_loss(model, input_fn, targets):\n",
        "  \"\"\" Computes the loss (RMSE) for linear regression.\n",
        "  \n",
        "  Args:\n",
        "    model: the trained model to use for making the predictions.\n",
        "    input_fn: the input_fn to use to make the predictions.\n",
        "    targets: a list of the target values being predicted that must be the\n",
        "             same length as predictions.\n",
        "    \n",
        "  Returns:\n",
        "    The RMSE for the provided predictions and targets.\n",
        "  \"\"\"      \n",
        "  predictions = list(model.predict(input_fn=input_fn))\n",
        "  return math.sqrt(metrics.mean_squared_error(predictions, targets))"
      ],
      "execution_count": 0,
      "outputs": []
    },
    {
      "metadata": {
        "colab_type": "text",
        "id": "2BokkZ4g2gs4"
      },
      "cell_type": "markdown",
      "source": [
        "### Setting Up the Feature Columns and Input Function for TensorFlow\n",
        "As in the last lab we define `input_fn` to create a real-valued feature for each provided\n",
        "numerical column, and then define `train_input_fn` to use the training data, `eval_input_fn` to use the validation data, and `test_input_fn` to use the test data."
      ]
    },
    {
      "metadata": {
        "colab_type": "code",
        "id": "OwnMzAkn2gs6",
        "colab": {}
      },
      "cell_type": "code",
      "source": [
        "CATEGORICAL_COLUMNS = []\n",
        "NUMERICAL_COLUMNS = [\"longitude\", \"latitude\", \"housing_median_age\", \n",
        "                     \"total_rooms\", \"total_bedrooms\", \"population\",\n",
        "                     \"households\", \"median_income\"]\n",
        "def input_fn(dataframe):\n",
        "  \"\"\"Constructs a dictionary for the feature columns.\n",
        "\n",
        "  Args:\n",
        "    dataframe: The Pandas DataFrame to use for the input.\n",
        "  Returns:\n",
        "    The feature columns and the associated labels for the provided input.\n",
        "  \"\"\"\n",
        "  # Creates a dictionary mapping each numeric feature column name (k) to\n",
        "  # the values of that column stored in a constant Tensor.\n",
        "  numerical_cols = {k: tf.constant(dataframe[k].values)\n",
        "                     for k in NUMERICAL_COLUMNS}\n",
        "  # Creates a dictionary mapping each categorical feature column name (k)\n",
        "  # to the values of that column stored in a tf.SparseTensor.\n",
        "  categorical_cols = {k: tf.SparseTensor(\n",
        "      indices=[[i, 0] for i in range(dataframe[k].size)],\n",
        "      values=dataframe[k].values,\n",
        "      dense_shape=[dataframe[k].size, 1])\n",
        "                      for k in CATEGORICAL_COLUMNS}\n",
        "  # Merges the two dictionaries into one.\n",
        "  feature_cols = dict(numerical_cols.items() + categorical_cols.items())\n",
        "  # Converts the label column into a constant Tensor.\n",
        "  label = tf.constant(dataframe[LABEL].values)\n",
        "  # Returns the feature columns and the label.\n",
        "  return feature_cols, label\n",
        "\n",
        "def train_input_fn():\n",
        "  return input_fn(training_examples)\n",
        "\n",
        "def eval_input_fn():\n",
        "  return input_fn(validation_examples)\n",
        "\n",
        "def test_input_fn():\n",
        "  return input_fn(test_examples)"
      ],
      "execution_count": 0,
      "outputs": []
    },
    {
      "metadata": {
        "colab_type": "text",
        "id": "v5XS0Z_-GevD"
      },
      "cell_type": "markdown",
      "source": [
        "### Functions to help visualize our results\n",
        "\n",
        "We will use our functions from the last lab to generate a calibration plot and learning curve (with both training and validation losses)."
      ]
    },
    {
      "metadata": {
        "colab_type": "code",
        "id": "YIXTkIa6GB0s",
        "colab": {}
      },
      "cell_type": "code",
      "source": [
        "def make_calibration_plot(predictions, targets):\n",
        "  \"\"\" Creates a calibration plot.\n",
        "  \n",
        "  Args:\n",
        "    predictions: a list of values predicted by the model being visualized\n",
        "    targets: a list of the target values being predicted that must be the\n",
        "             same length as predictions.\n",
        "  \"\"\"  \n",
        "  calibration_data = pd.DataFrame()\n",
        "  calibration_data[\"predictions\"] = pd.Series(predictions)\n",
        "  calibration_data[\"targets\"] = pd.Series(targets)\n",
        "  calibration_data.describe()\n",
        "  min_val = calibration_data[\"predictions\"].min()\n",
        "  max_val = calibration_data[\"predictions\"].max()\n",
        "  plt.ylabel(\"target\")\n",
        "  plt.xlabel(\"prediction\")\n",
        "  plt.scatter(predictions, targets, color='black')\n",
        "  plt.plot([min_val, max_val], [min_val, max_val])\n",
        "  \n",
        "def plot_learning_curve(training_losses, validation_losses):\n",
        "  \"\"\" Plot the learning curve.\n",
        "  \n",
        "  Args:\n",
        "    training_loses: a list of training losses to plot.\n",
        "    validation_losses: a list of validation losses to plot.\n",
        "  \"\"\"        \n",
        "  plt.ylabel('Loss')\n",
        "  plt.xlabel('Training Steps')\n",
        "  plt.plot(training_losses, label=\"training\")\n",
        "  plt.plot(validation_losses, label=\"validation\")\n",
        "  plt.legend(loc=1)"
      ],
      "execution_count": 0,
      "outputs": []
    },
    {
      "metadata": {
        "colab_type": "text",
        "id": "MD--C-wVGEEg"
      },
      "cell_type": "markdown",
      "source": [
        "### Defining the features, linear regression model, and function to train the model\n",
        "\n",
        "These functions are just like the last lab except now we include all of the available numerical features."
      ]
    },
    {
      "metadata": {
        "colab_type": "code",
        "id": "uq6e_T_1F94U",
        "colab": {}
      },
      "cell_type": "code",
      "source": [
        "NUMERICAL_FEATURES = [\"longitude\", \"latitude\", \"housing_median_age\", \n",
        "                     \"total_rooms\", \"total_bedrooms\", \"population\",\n",
        "                     \"households\"]\n",
        "LABEL = \"median_income\"\n",
        "\n",
        "def construct_feature_columns():\n",
        "  \"\"\"Construct TensorFlow Feature Columns for features.\n",
        "  \n",
        "  Returns:\n",
        "    A set of feature columns.\n",
        "  \"\"\"\n",
        "  feature_set = set([tf.contrib.layers.real_valued_column(feature) \n",
        "                     for feature in NUMERICAL_FEATURES])\n",
        "  return feature_set\n",
        "\n",
        "def define_linear_regression_model(learning_rate):\n",
        "  \"\"\" Defines a linear regression model of one feature to predict the target.\n",
        "  \n",
        "  Args:\n",
        "    learning_rate: A `float`, the learning rate.\n",
        "    \n",
        "  Returns:\n",
        "    A linear regressor created with the given parameters.\n",
        "  \"\"\"\n",
        "  linear_regressor = tf.contrib.learn.LinearRegressor(\n",
        "    feature_columns=construct_feature_columns(),\n",
        "    optimizer=tf.train.GradientDescentOptimizer(learning_rate=learning_rate),\n",
        "    gradient_clip_norm=5.0\n",
        "  )  \n",
        "  return linear_regressor\n",
        "\n",
        "def train_model(linear_regressor, steps):\n",
        "  \"\"\"Trains a linear regression model.\n",
        "  \n",
        "  Args:\n",
        "    linear_regressor: The regressor to train.\n",
        "    steps: A non-zero `int`, the total number of training steps.\n",
        "    \n",
        "  Returns:\n",
        "    The trained regressor.\n",
        "  \"\"\"\n",
        "  # In order to see how the model evolves as we train it, we divide the\n",
        "  # steps into periods and show the model after each period.\n",
        "  periods = 10\n",
        "  steps_per_period = steps / periods\n",
        "  \n",
        "  # Train the model, but do so inside a loop so that we can periodically assess\n",
        "  # loss metrics.  We store the training and validation losses so we can\n",
        "  # generate a learning curve.\n",
        "  print \"Training model...\"\n",
        "  training_losses = []\n",
        "  validation_losses = []\n",
        "\n",
        "  for period in range (0, periods):\n",
        "    # Call fit to train the regressor for steps_per_period steps.\n",
        "    linear_regressor.fit(input_fn=train_input_fn, steps=steps_per_period)\n",
        "    \n",
        "    # Compute the loss between the predictions and the correct labels, append\n",
        "    # the training and validation loss to the list of losses used to generate\n",
        "    # the learning curve after training is complete and print the current\n",
        "    # training loss.\n",
        "    training_loss = compute_loss(linear_regressor, train_input_fn,\n",
        "                                 training_examples[LABEL])\n",
        "    validation_loss = compute_loss(linear_regressor, eval_input_fn,\n",
        "                                   validation_examples[LABEL])\n",
        "    training_losses.append(training_loss) \n",
        "    validation_losses.append(validation_loss) \n",
        "    print \"  Training loss after period %02d : %0.3f\" % (period, training_loss)\n",
        "      \n",
        "  # Now that training is done print the final training and validation losses.    \n",
        "  print \"Final Training Loss (RMSE): %0.3f\" % training_loss\n",
        "  print \"Final Validation Loss (RMSE): %0.3f\" % validation_loss \n",
        "  \n",
        "  # Generate a figure with the learning curve on the left and a\n",
        "  # calibration plot on the right.\n",
        "  plt.figure(figsize=(10, 5))\n",
        "  plt.subplot(1, 2, 1)\n",
        "  plt.title(\"Learning Curve (RMSE vs time)\")\n",
        "  plot_learning_curve(training_losses, validation_losses)\n",
        "  \n",
        "  plt.subplot(1, 2, 2)\n",
        "  plt.tight_layout(pad=1.1, w_pad=3.0, h_pad=3.0) \n",
        "  plt.title(\"Calibration Plot on Validation Data\")\n",
        "  validation_predictions = np.array(list(linear_regressor.predict(\n",
        "      input_fn=eval_input_fn)))\n",
        "  make_calibration_plot(validation_predictions, validation_examples[LABEL])\n",
        "   \n",
        "  return linear_regressor"
      ],
      "execution_count": 0,
      "outputs": []
    },
    {
      "metadata": {
        "colab_type": "text",
        "id": "91yJ6WebbC57"
      },
      "cell_type": "markdown",
      "source": [
        "### Training a model with one feature.\n",
        "\n",
        "In the last lab, you trained a model to predict the `median_house_value` from a single feature. Before we explore what can be done by introducing additional features, let's just train a good model to use a single feature.  Feel free to change the below, but as is it should give a pretty good result (given the constraint of using a single feature)."
      ]
    },
    {
      "metadata": {
        "colab_type": "code",
        "id": "_QscSNCVctHb",
        "colab": {}
      },
      "cell_type": "code",
      "source": [
        "NUMERICAL_FEATURES = [\"median_income\"]\n",
        "LABEL = \"median_house_value\"\n",
        "\n",
        "LEARNING_RATE = 0.1\n",
        "STEPS = 250\n",
        "\n",
        "linear_regressor = define_linear_regression_model(learning_rate = LEARNING_RATE)\n",
        "linear_regressor = train_model(linear_regressor, steps=STEPS)"
      ],
      "execution_count": 0,
      "outputs": []
    },
    {
      "metadata": {
        "colab_type": "text",
        "id": "ftNnIpjRG3cb"
      },
      "cell_type": "markdown",
      "source": [
        "Once you've adjusted the hyperparameters (if you'd like to see if you can reduce the validation loss), let's check the loss on the test data."
      ]
    },
    {
      "metadata": {
        "colab_type": "code",
        "id": "FMSp8-FqG4ao",
        "colab": {}
      },
      "cell_type": "code",
      "source": [
        "print \"loss on test data is\", compute_loss(\n",
        "    linear_regressor, test_input_fn, test_examples[LABEL])"
      ],
      "execution_count": 0,
      "outputs": []
    },
    {
      "metadata": {
        "colab_type": "text",
        "id": "OfzBmjBpigCi"
      },
      "cell_type": "markdown",
      "source": [
        "## Task 1: Introduce Synthetic Features (1 Point)\n",
        "Both the total_rooms and population features count totals for a given city block.\n",
        "But what if one city block were more densely populated than another? Then just using `total_rooms` and `population` directly might not be very useful.  Instead what we really want is the **quadratic feature** obtain by dividing `total_rooms` by the `population` to give the average number of rooms per person for that city block.\n",
        "\n",
        "We've got you started by creating a feature called rooms_per_person.  Create others, and use them along with whatever other features you think are useful to train a model."
      ]
    },
    {
      "metadata": {
        "colab_type": "code",
        "id": "9qP-NtBJO-BC",
        "colab": {}
      },
      "cell_type": "code",
      "source": [
        "def prepare_features(dataframe):\n",
        "  \"\"\"Prepares the features for provided dataset.\n",
        "\n",
        "  Args:\n",
        "    dataframe: A Pandas DataFrame expected to contain data from the\n",
        "      desired data set.\n",
        "  Returns:\n",
        "    A new DataFrame that contains the features to be used for the model.\n",
        "  \"\"\"\n",
        "  processed_features = dataframe.copy()\n",
        "  \n",
        "  # Modifying median_house_value to be in scale of $1000.  So a value of 14.0\n",
        "  # will correspond to $14,000.  This will make it a bit easier to work with.\n",
        "  processed_features[\"median_house_value\"] /= 1000.0\n",
        "  \n",
        "  # Add your synthetic features here. We've got you started by defining \n",
        "  # rooms_per_person\n",
        "  processed_features[\"rooms_per_person\"] = (\n",
        "    dataframe[\"total_rooms\"] / dataframe[\"population\"])\n",
        "\n",
        "  return processed_features\n",
        "\n",
        "# Generate the training, validation and test examples\n",
        "training_examples = prepare_features(california_housing_dataframe.head(14000))\n",
        "validation_examples = prepare_features(california_housing_dataframe.tail(3000))\n",
        "test_examples = prepare_features(california_housing_test_data)\n",
        "\n",
        "validation_examples.describe()"
      ],
      "execution_count": 0,
      "outputs": []
    },
    {
      "metadata": {
        "colab_type": "text",
        "id": "FpgR7431USCM"
      },
      "cell_type": "markdown",
      "source": [
        "Since we added new features, we need to add them to `NUMERICAL_COLUMNS` so that they are included in the dictionary created by `input_fn`."
      ]
    },
    {
      "metadata": {
        "colab_type": "code",
        "id": "vvDwrKQeURtz",
        "colab": {}
      },
      "cell_type": "code",
      "source": [
        "# Add any other synthetic features you create to this list.\n",
        "NUMERICAL_COLUMNS = [\"longitude\", \"latitude\", \"housing_median_age\", \n",
        "                     \"total_rooms\", \"total_bedrooms\", \"population\",\n",
        "                     \"households\", \"median_income\", \"rooms_per_person\"]"
      ],
      "execution_count": 0,
      "outputs": []
    },
    {
      "metadata": {
        "colab_type": "text",
        "id": "9WDsNKEgP-8e"
      },
      "cell_type": "markdown",
      "source": [
        "##Task 2 -- Add a Clip Feature Transformation (1 point)\n",
        "\n",
        "Recall that there are two characteristics we'd like of numerical features when used together to train a linear model:\n",
        "* The range of the features is roughly the same.\n",
        "* To the extent possible the histogram of the features kind of resembles a bell curve.  Sometimes the data will fit this very well and other times it won't.\n",
        "\n",
        "Below are the methods to perform linear scaling and log scaling.  For this data set it will also be useful to have a feature transformation to cap the features to within a minimum and/or maximum value.  Most likely you will want to then linearly scale or log scale the feature after clipping it."
      ]
    },
    {
      "metadata": {
        "colab_type": "code",
        "id": "GaIy2hyRKUgE",
        "colab": {}
      },
      "cell_type": "code",
      "source": [
        "# Linearly rescales to the range [0, 1]\n",
        "def linear_scale(series):\n",
        "  min_val = series.min()\n",
        "  max_val = series.max()\n",
        "  scale = 1.0 * (max_val - min_val)\n",
        "  return series.apply(lambda x:((x - min_val) / scale))\n",
        "\n",
        "# Perform log scaling\n",
        "def log_scale(series):\n",
        "  return series.apply(lambda x:math.log(x+1.0))\n",
        "\n",
        "# Clip all features to given min and max\n",
        "def clip(series, clip_to_min, clip_to_max):\n",
        "  # You need to modify this to actually do the clipping versus just returning\n",
        "  # the series unchanged.\n",
        "  return series.apply(lambda x: x)"
      ],
      "execution_count": 0,
      "outputs": []
    },
    {
      "metadata": {
        "colab_type": "text",
        "id": "aFIYIXKVTQYB"
      },
      "cell_type": "markdown",
      "source": [
        "You can use this function to draw a histogram to help decide what kind of scaling is best to use for `households` and also to confirm your implementation of `clip` works as you intended."
      ]
    },
    {
      "metadata": {
        "colab_type": "code",
        "id": "LoxE90BfKnTQ",
        "colab": {}
      },
      "cell_type": "code",
      "source": [
        "clip_min = -np.inf\n",
        "clip_max = np.inf\n",
        "\n",
        "def draw_histograms(dataframe, feature_name,\n",
        "                    clip_min = -np.inf, clip_max = np.inf):\n",
        "  plt.figure(figsize=(20, 4))\n",
        "  plt.subplot(1, 3, 1)\n",
        "  plt.title(feature_name)\n",
        "  histogram = dataframe[feature_name].hist(bins=50)\n",
        "\n",
        "  plt.subplot(1, 3, 2)\n",
        "  plt.title(\"linear_scaling\")\n",
        "  scaled_features = pd.DataFrame()\n",
        "  scaled_features[feature_name] = linear_scale(\n",
        "      clip(dataframe[feature_name], clip_min, clip_max))\n",
        "  histogram = scaled_features[feature_name].hist(bins=50)\n",
        "  \n",
        "  plt.subplot(1, 3, 3)\n",
        "  plt.title(\"log scaling\")\n",
        "  log_normalized_features = pd.DataFrame()\n",
        "  log_normalized_features[feature_name] = log_scale(dataframe[feature_name])\n",
        "  histogram = log_normalized_features[feature_name].hist(bins=50)\n",
        "  \n",
        "draw_histograms(training_examples, 'households')"
      ],
      "execution_count": 0,
      "outputs": []
    },
    {
      "metadata": {
        "colab_type": "code",
        "id": "Ka910yRQLY9J",
        "colab": {}
      },
      "cell_type": "code",
      "source": [
        "print \"Now let's clip between 0 and 1000 before scaling.\"\n",
        "\n",
        "draw_histograms(training_examples, 'households', 0, 1000)"
      ],
      "execution_count": 0,
      "outputs": []
    },
    {
      "metadata": {
        "colab_type": "text",
        "id": "srotOZZ0MCMa"
      },
      "cell_type": "markdown",
      "source": [
        "The leftmost histogram is unchanged since that just shows the raw feature.  You should see a very visible change when you clip the feature before applying linear scaling. As you will often (but not always) find, for this particular feature log scaling worked well without the need to first clip the data.\n",
        "\n",
        "**Run the above code with features other than `households` to help decide what feature normalization to use for each feature.**  Feel free to duplicate the code box that calls `draw_histogram` if you'd like to show the histograms for multiple features."
      ]
    },
    {
      "metadata": {
        "colab_type": "text",
        "id": "NCLzj1XfqcMy"
      },
      "cell_type": "markdown",
      "source": [
        "## Task 3: Train the Best Model You Can (3 points)\n",
        "\n",
        "We expect you to take some time exploring the feature transformations and hyperparameters.\n",
        "\n",
        "Select any number of the provided features, create synthetic features you think will be informative, and modify the hyperparmaters to get a better model. You will want to edit preprocess_features to do some feature normalization like you saw in the [Using Multiple Numerical Features and Feature Scaling](https://colab.research.google.com/notebook#fileId=/v2/external/notebooks/intro_to_ml_semester_course/Lab_3__Using_Multiple_Numerical_Features_and_Feature_Scaling.ipynb). See how well you are able to do.\n",
        "\n",
        "**DO NOT APPLY ANY ADDITIONAL FEATURE TRANSFORMATION TO THE TARGET `median_price` since that would change the scale for RMSE.**\n",
        "\n",
        "* Summarize the changes you made that were the most important.\n",
        "* Once you find a model, try training 20 times more steps.  Does overfitting occur if you do that?\n"
      ]
    },
    {
      "metadata": {
        "colab_type": "code",
        "id": "6dHsVfa4m2JH",
        "colab": {}
      },
      "cell_type": "code",
      "source": [
        "def prepare_features(dataframe):\n",
        "  \"\"\"Prepares the features for provided dataset.\n",
        "\n",
        "  Args:\n",
        "    dataframe: A Pandas DataFrame expected to contain data from the\n",
        "      desired data set.\n",
        "  Returns:\n",
        "    A new dataFrame that contains the features to be used for the model.\n",
        "  \"\"\"\n",
        "  processed_features = dataframe.copy()\n",
        "  \n",
        "  # Modifying median_house_value to be in scale of $1000.  So a value of 14.0\n",
        "  # will correspond to $14,000.  This will make it a bit easier to work with.\n",
        "  processed_features[\"median_house_value\"] /= 1000.0\n",
        "  \n",
        "  # Perform your feature scaling here\n",
        "  \n",
        "  \n",
        "  # Add your synthetic features here along with the feature scaling you'd like\n",
        "  # to them. As a starting point linear scaling is used for rooms_per_person. \n",
        "  # You are encouraged to experiment with different scaling options.\n",
        "  processed_features[\"rooms_per_person\"] = (\n",
        "    linear_scale(dataframe[\"total_rooms\"] / dataframe[\"population\"]))\n",
        "  \n",
        "  return processed_features\n",
        "\n",
        "# Generate the training, validation and test examples\n",
        "training_examples = prepare_features(california_housing_dataframe.head(14000))\n",
        "validation_examples = prepare_features(california_housing_dataframe.tail(3000))\n",
        "test_examples = prepare_features(california_housing_test_data)\n",
        "\n",
        "training_examples.describe()"
      ],
      "execution_count": 0,
      "outputs": []
    },
    {
      "metadata": {
        "colab_type": "text",
        "id": "ITsEqEeNZFEW"
      },
      "cell_type": "markdown",
      "source": [
        "Here's the method to train the model.  You'l need to fill in the features you want to use."
      ]
    },
    {
      "metadata": {
        "colab_type": "code",
        "id": "8HMfGTXbZFgW",
        "colab": {}
      },
      "cell_type": "code",
      "source": [
        "# Fill in the features you want to use\n",
        "NUMERICAL_FEATURES = [\"total_rooms\"]\n",
        "LABEL = \"median_house_value\"\n",
        "\n",
        "LEARNING_RATE = 0.5\n",
        "STEPS = 100\n",
        "\n",
        "linear_regressor = define_linear_regression_model(learning_rate = LEARNING_RATE)\n",
        "linear_regressor = train_model(linear_regressor, steps=STEPS)"
      ],
      "execution_count": 0,
      "outputs": []
    },
    {
      "metadata": {
        "colab_type": "text",
        "id": "XUrmtr_CZ_ss"
      },
      "cell_type": "markdown",
      "source": [
        "You can look at the weights of the trained model."
      ]
    },
    {
      "metadata": {
        "colab_type": "code",
        "id": "UzNXgXjBZ-up",
        "colab": {}
      },
      "cell_type": "code",
      "source": [
        "# Let's also look at the weights and bias\n",
        "for feature in NUMERICAL_FEATURES:\n",
        "  print \"weight for\", feature, \":\", linear_regressor.get_variable_value(\n",
        "    \"linear/\" + feature + \"/weight\")[0]\n",
        "print \"bias:\",  linear_regressor.get_variable_value(\"linear/bias_weight\")"
      ],
      "execution_count": 0,
      "outputs": []
    },
    {
      "metadata": {
        "colab_type": "text",
        "id": "nzeH2UDRhI4U"
      },
      "cell_type": "markdown",
      "source": [
        "Check the loss on the test data after you are done selecting the learning rate and number of steps to run."
      ]
    },
    {
      "metadata": {
        "colab_type": "code",
        "id": "5CO5kC8suhrV",
        "colab": {}
      },
      "cell_type": "code",
      "source": [
        "print \"loss on test data is\", compute_loss(\n",
        "    linear_regressor, test_input_fn, test_examples[LABEL])"
      ],
      "execution_count": 0,
      "outputs": []
    },
    {
      "metadata": {
        "colab_type": "text",
        "id": "shyVGiUJY_k2"
      },
      "cell_type": "markdown",
      "source": [
        "Here's a code box for you to train your model with the same learning rate that worked best but to see what happens if you train it 20 times longer."
      ]
    },
    {
      "metadata": {
        "colab_type": "code",
        "id": "DnZbLqXkY-be",
        "colab": {}
      },
      "cell_type": "code",
      "source": [
        "# Fill in the features you want to use\n",
        "NUMERICAL_FEATURES = [\"total_rooms\"]\n",
        "LABEL = \"median_house_value\"\n",
        "\n",
        "LEARNING_RATE = 0.5\n",
        "STEPS = 100\n",
        "\n",
        "linear_regressor = define_linear_regression_model(learning_rate = LEARNING_RATE)\n",
        "linear_regressor = train_model(linear_regressor, steps=STEPS)"
      ],
      "execution_count": 0,
      "outputs": []
    },
    {
      "metadata": {
        "colab_type": "code",
        "id": "dPX42NvnTtz8",
        "colab": {}
      },
      "cell_type": "code",
      "source": [
        "\"\"\"\n",
        "Here's a place for you to answer these questions:\n",
        "\n",
        "\n",
        "A) Summarize the changes you made that were the most important.\n",
        "\n",
        "\n",
        "B) Once you find a model, try training 20 times more steps.  Does overfitting\n",
        "   occur if you do that?\n",
        "\n",
        "\"\"\""
      ],
      "execution_count": 0,
      "outputs": []
    }
  ]
}